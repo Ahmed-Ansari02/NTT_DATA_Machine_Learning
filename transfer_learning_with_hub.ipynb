{
 "cells": [
  {
   "cell_type": "markdown",
   "metadata": {
    "id": "W_tvPdyfA-BL"
   },
   "source": [
    "##### Copyright 2018 The TensorFlow Authors."
   ]
  },
  {
   "cell_type": "code",
   "execution_count": 1,
   "metadata": {
    "cellView": "form",
    "execution": {
     "iopub.execute_input": "2023-10-27T06:09:41.315308Z",
     "iopub.status.busy": "2023-10-27T06:09:41.315085Z",
     "iopub.status.idle": "2023-10-27T06:09:41.318709Z",
     "shell.execute_reply": "2023-10-27T06:09:41.318157Z"
    },
    "id": "0O_LFhwSBCjm"
   },
   "outputs": [],
   "source": [
    "#@title Licensed under the Apache License, Version 2.0 (the \"License\");\n",
    "# you may not use this file except in compliance with the License.\n",
    "# You may obtain a copy of the License at\n",
    "#\n",
    "# https://www.apache.org/licenses/LICENSE-2.0\n",
    "#\n",
    "# Unless required by applicable law or agreed to in writing, software\n",
    "# distributed under the License is distributed on an \"AS IS\" BASIS,\n",
    "# WITHOUT WARRANTIES OR CONDITIONS OF ANY KIND, either express or implied.\n",
    "# See the License for the specific language governing permissions and\n",
    "# limitations under the License."
   ]
  },
  {
   "cell_type": "markdown",
   "metadata": {
    "id": "PWUmcKKjtwXL"
   },
   "source": [
    "# Transfer learning with TensorFlow Hub\n",
    "\n",
    "<table class=\"tfo-notebook-buttons\" align=\"left\">\n",
    "  <td>\n",
    "    <a target=\"_blank\" href=\"https://www.tensorflow.org/tutorials/images/transfer_learning_with_hub\"><img src=\"https://www.tensorflow.org/images/tf_logo_32px.png\" />View on TensorFlow.org</a>\n",
    "  </td>\n",
    "  <td>\n",
    "    <a target=\"_blank\" href=\"https://colab.research.google.com/github/tensorflow/docs/blob/master/site/en/tutorials/images/transfer_learning_with_hub.ipynb\"><img src=\"https://www.tensorflow.org/images/colab_logo_32px.png\" />Run in Google Colab</a>\n",
    "  </td>\n",
    "  <td>\n",
    "    <a target=\"_blank\" href=\"https://github.com/tensorflow/docs/blob/master/site/en/tutorials/images/transfer_learning_with_hub.ipynb\"><img src=\"https://www.tensorflow.org/images/GitHub-Mark-32px.png\" />View on GitHub</a>\n",
    "  </td>\n",
    "  <td>\n",
    "    <a href=\"https://storage.googleapis.com/tensorflow_docs/docs/site/en/tutorials/images/transfer_learning_with_hub.ipynb\"><img src=\"https://www.tensorflow.org/images/download_logo_32px.png\" />Download notebook</a>\n",
    "  </td>\n",
    "  <td>\n",
    "    <a href=\"https://tfhub.dev/google/tf2-preview/mobilenet_v2/feature_vector/4\"><img src=\"https://www.tensorflow.org/images/hub_logo_32px.png\" />See TF Hub model</a>\n",
    "  </td>\n",
    "</table>"
   ]
  },
  {
   "cell_type": "markdown",
   "metadata": {
    "id": "crU-iluJIEzw"
   },
   "source": [
    "[TensorFlow Hub](https://tfhub.dev/) is a repository of pre-trained TensorFlow models.\n",
    "\n",
    "This tutorial demonstrates how to:\n",
    "\n",
    "1. Use models from TensorFlow Hub with `tf.keras`.\n",
    "1. Use an image classification model from TensorFlow Hub.\n",
    "1. Do simple transfer learning to fine-tune a model for your own image classes."
   ]
  },
  {
   "cell_type": "markdown",
   "metadata": {
    "id": "CKFUvuEho9Th"
   },
   "source": [
    "## Setup"
   ]
  },
  {
   "cell_type": "code",
   "execution_count": 2,
   "metadata": {},
   "outputs": [
    {
     "name": "stdout",
     "output_type": "stream",
     "text": [
      "Requirement already satisfied: numpy in /Users/ahmedansari/Projects/UCL/UCL_YEAR_2/COMP0016-Systems-Engineering/transfer_learning/.venv/lib/python3.12/site-packages (1.26.4)\n",
      "Note: you may need to restart the kernel to use updated packages.\n",
      "Requirement already satisfied: tensorflow in /Users/ahmedansari/Projects/UCL/UCL_YEAR_2/COMP0016-Systems-Engineering/transfer_learning/.venv/lib/python3.12/site-packages (2.16.1)\n",
      "Requirement already satisfied: absl-py>=1.0.0 in /Users/ahmedansari/Projects/UCL/UCL_YEAR_2/COMP0016-Systems-Engineering/transfer_learning/.venv/lib/python3.12/site-packages (from tensorflow) (2.1.0)\n",
      "Requirement already satisfied: astunparse>=1.6.0 in /Users/ahmedansari/Projects/UCL/UCL_YEAR_2/COMP0016-Systems-Engineering/transfer_learning/.venv/lib/python3.12/site-packages (from tensorflow) (1.6.3)\n",
      "Requirement already satisfied: flatbuffers>=23.5.26 in /Users/ahmedansari/Projects/UCL/UCL_YEAR_2/COMP0016-Systems-Engineering/transfer_learning/.venv/lib/python3.12/site-packages (from tensorflow) (24.3.25)\n",
      "Requirement already satisfied: gast!=0.5.0,!=0.5.1,!=0.5.2,>=0.2.1 in /Users/ahmedansari/Projects/UCL/UCL_YEAR_2/COMP0016-Systems-Engineering/transfer_learning/.venv/lib/python3.12/site-packages (from tensorflow) (0.5.4)\n",
      "Requirement already satisfied: google-pasta>=0.1.1 in /Users/ahmedansari/Projects/UCL/UCL_YEAR_2/COMP0016-Systems-Engineering/transfer_learning/.venv/lib/python3.12/site-packages (from tensorflow) (0.2.0)\n",
      "Requirement already satisfied: h5py>=3.10.0 in /Users/ahmedansari/Projects/UCL/UCL_YEAR_2/COMP0016-Systems-Engineering/transfer_learning/.venv/lib/python3.12/site-packages (from tensorflow) (3.10.0)\n",
      "Requirement already satisfied: libclang>=13.0.0 in /Users/ahmedansari/Projects/UCL/UCL_YEAR_2/COMP0016-Systems-Engineering/transfer_learning/.venv/lib/python3.12/site-packages (from tensorflow) (18.1.1)\n",
      "Requirement already satisfied: ml-dtypes~=0.3.1 in /Users/ahmedansari/Projects/UCL/UCL_YEAR_2/COMP0016-Systems-Engineering/transfer_learning/.venv/lib/python3.12/site-packages (from tensorflow) (0.3.2)\n",
      "Requirement already satisfied: opt-einsum>=2.3.2 in /Users/ahmedansari/Projects/UCL/UCL_YEAR_2/COMP0016-Systems-Engineering/transfer_learning/.venv/lib/python3.12/site-packages (from tensorflow) (3.3.0)\n",
      "Requirement already satisfied: packaging in /Users/ahmedansari/Projects/UCL/UCL_YEAR_2/COMP0016-Systems-Engineering/transfer_learning/.venv/lib/python3.12/site-packages (from tensorflow) (24.0)\n",
      "Requirement already satisfied: protobuf!=4.21.0,!=4.21.1,!=4.21.2,!=4.21.3,!=4.21.4,!=4.21.5,<5.0.0dev,>=3.20.3 in /Users/ahmedansari/Projects/UCL/UCL_YEAR_2/COMP0016-Systems-Engineering/transfer_learning/.venv/lib/python3.12/site-packages (from tensorflow) (4.25.3)\n",
      "Requirement already satisfied: requests<3,>=2.21.0 in /Users/ahmedansari/Projects/UCL/UCL_YEAR_2/COMP0016-Systems-Engineering/transfer_learning/.venv/lib/python3.12/site-packages (from tensorflow) (2.31.0)\n",
      "Requirement already satisfied: setuptools in /Users/ahmedansari/Projects/UCL/UCL_YEAR_2/COMP0016-Systems-Engineering/transfer_learning/.venv/lib/python3.12/site-packages (from tensorflow) (69.2.0)\n",
      "Requirement already satisfied: six>=1.12.0 in /Users/ahmedansari/Projects/UCL/UCL_YEAR_2/COMP0016-Systems-Engineering/transfer_learning/.venv/lib/python3.12/site-packages (from tensorflow) (1.16.0)\n",
      "Requirement already satisfied: termcolor>=1.1.0 in /Users/ahmedansari/Projects/UCL/UCL_YEAR_2/COMP0016-Systems-Engineering/transfer_learning/.venv/lib/python3.12/site-packages (from tensorflow) (2.4.0)\n",
      "Requirement already satisfied: typing-extensions>=3.6.6 in /Users/ahmedansari/Projects/UCL/UCL_YEAR_2/COMP0016-Systems-Engineering/transfer_learning/.venv/lib/python3.12/site-packages (from tensorflow) (4.11.0)\n",
      "Requirement already satisfied: wrapt>=1.11.0 in /Users/ahmedansari/Projects/UCL/UCL_YEAR_2/COMP0016-Systems-Engineering/transfer_learning/.venv/lib/python3.12/site-packages (from tensorflow) (1.16.0)\n",
      "Requirement already satisfied: grpcio<2.0,>=1.24.3 in /Users/ahmedansari/Projects/UCL/UCL_YEAR_2/COMP0016-Systems-Engineering/transfer_learning/.venv/lib/python3.12/site-packages (from tensorflow) (1.62.1)\n",
      "Requirement already satisfied: tensorboard<2.17,>=2.16 in /Users/ahmedansari/Projects/UCL/UCL_YEAR_2/COMP0016-Systems-Engineering/transfer_learning/.venv/lib/python3.12/site-packages (from tensorflow) (2.16.2)\n",
      "Requirement already satisfied: keras>=3.0.0 in /Users/ahmedansari/Projects/UCL/UCL_YEAR_2/COMP0016-Systems-Engineering/transfer_learning/.venv/lib/python3.12/site-packages (from tensorflow) (3.1.1)\n",
      "Requirement already satisfied: numpy<2.0.0,>=1.26.0 in /Users/ahmedansari/Projects/UCL/UCL_YEAR_2/COMP0016-Systems-Engineering/transfer_learning/.venv/lib/python3.12/site-packages (from tensorflow) (1.26.4)\n",
      "Requirement already satisfied: wheel<1.0,>=0.23.0 in /Users/ahmedansari/Projects/UCL/UCL_YEAR_2/COMP0016-Systems-Engineering/transfer_learning/.venv/lib/python3.12/site-packages (from astunparse>=1.6.0->tensorflow) (0.43.0)\n",
      "Requirement already satisfied: rich in /Users/ahmedansari/Projects/UCL/UCL_YEAR_2/COMP0016-Systems-Engineering/transfer_learning/.venv/lib/python3.12/site-packages (from keras>=3.0.0->tensorflow) (13.7.1)\n",
      "Requirement already satisfied: namex in /Users/ahmedansari/Projects/UCL/UCL_YEAR_2/COMP0016-Systems-Engineering/transfer_learning/.venv/lib/python3.12/site-packages (from keras>=3.0.0->tensorflow) (0.0.7)\n",
      "Requirement already satisfied: optree in /Users/ahmedansari/Projects/UCL/UCL_YEAR_2/COMP0016-Systems-Engineering/transfer_learning/.venv/lib/python3.12/site-packages (from keras>=3.0.0->tensorflow) (0.11.0)\n",
      "Requirement already satisfied: charset-normalizer<4,>=2 in /Users/ahmedansari/Projects/UCL/UCL_YEAR_2/COMP0016-Systems-Engineering/transfer_learning/.venv/lib/python3.12/site-packages (from requests<3,>=2.21.0->tensorflow) (3.3.2)\n",
      "Requirement already satisfied: idna<4,>=2.5 in /Users/ahmedansari/Projects/UCL/UCL_YEAR_2/COMP0016-Systems-Engineering/transfer_learning/.venv/lib/python3.12/site-packages (from requests<3,>=2.21.0->tensorflow) (3.6)\n",
      "Requirement already satisfied: urllib3<3,>=1.21.1 in /Users/ahmedansari/Projects/UCL/UCL_YEAR_2/COMP0016-Systems-Engineering/transfer_learning/.venv/lib/python3.12/site-packages (from requests<3,>=2.21.0->tensorflow) (2.2.1)\n",
      "Requirement already satisfied: certifi>=2017.4.17 in /Users/ahmedansari/Projects/UCL/UCL_YEAR_2/COMP0016-Systems-Engineering/transfer_learning/.venv/lib/python3.12/site-packages (from requests<3,>=2.21.0->tensorflow) (2024.2.2)\n",
      "Requirement already satisfied: markdown>=2.6.8 in /Users/ahmedansari/Projects/UCL/UCL_YEAR_2/COMP0016-Systems-Engineering/transfer_learning/.venv/lib/python3.12/site-packages (from tensorboard<2.17,>=2.16->tensorflow) (3.6)\n",
      "Requirement already satisfied: tensorboard-data-server<0.8.0,>=0.7.0 in /Users/ahmedansari/Projects/UCL/UCL_YEAR_2/COMP0016-Systems-Engineering/transfer_learning/.venv/lib/python3.12/site-packages (from tensorboard<2.17,>=2.16->tensorflow) (0.7.2)\n",
      "Requirement already satisfied: werkzeug>=1.0.1 in /Users/ahmedansari/Projects/UCL/UCL_YEAR_2/COMP0016-Systems-Engineering/transfer_learning/.venv/lib/python3.12/site-packages (from tensorboard<2.17,>=2.16->tensorflow) (3.0.2)\n",
      "Requirement already satisfied: MarkupSafe>=2.1.1 in /Users/ahmedansari/Projects/UCL/UCL_YEAR_2/COMP0016-Systems-Engineering/transfer_learning/.venv/lib/python3.12/site-packages (from werkzeug>=1.0.1->tensorboard<2.17,>=2.16->tensorflow) (2.1.5)\n",
      "Requirement already satisfied: markdown-it-py>=2.2.0 in /Users/ahmedansari/Projects/UCL/UCL_YEAR_2/COMP0016-Systems-Engineering/transfer_learning/.venv/lib/python3.12/site-packages (from rich->keras>=3.0.0->tensorflow) (3.0.0)\n",
      "Requirement already satisfied: pygments<3.0.0,>=2.13.0 in /Users/ahmedansari/Projects/UCL/UCL_YEAR_2/COMP0016-Systems-Engineering/transfer_learning/.venv/lib/python3.12/site-packages (from rich->keras>=3.0.0->tensorflow) (2.17.2)\n",
      "Requirement already satisfied: mdurl~=0.1 in /Users/ahmedansari/Projects/UCL/UCL_YEAR_2/COMP0016-Systems-Engineering/transfer_learning/.venv/lib/python3.12/site-packages (from markdown-it-py>=2.2.0->rich->keras>=3.0.0->tensorflow) (0.1.2)\n",
      "Note: you may need to restart the kernel to use updated packages.\n",
      "Requirement already satisfied: matplotlib in /Users/ahmedansari/Projects/UCL/UCL_YEAR_2/COMP0016-Systems-Engineering/transfer_learning/.venv/lib/python3.12/site-packages (3.8.4)\n",
      "Requirement already satisfied: contourpy>=1.0.1 in /Users/ahmedansari/Projects/UCL/UCL_YEAR_2/COMP0016-Systems-Engineering/transfer_learning/.venv/lib/python3.12/site-packages (from matplotlib) (1.2.1)\n",
      "Requirement already satisfied: cycler>=0.10 in /Users/ahmedansari/Projects/UCL/UCL_YEAR_2/COMP0016-Systems-Engineering/transfer_learning/.venv/lib/python3.12/site-packages (from matplotlib) (0.12.1)\n",
      "Requirement already satisfied: fonttools>=4.22.0 in /Users/ahmedansari/Projects/UCL/UCL_YEAR_2/COMP0016-Systems-Engineering/transfer_learning/.venv/lib/python3.12/site-packages (from matplotlib) (4.51.0)\n",
      "Requirement already satisfied: kiwisolver>=1.3.1 in /Users/ahmedansari/Projects/UCL/UCL_YEAR_2/COMP0016-Systems-Engineering/transfer_learning/.venv/lib/python3.12/site-packages (from matplotlib) (1.4.5)\n",
      "Requirement already satisfied: numpy>=1.21 in /Users/ahmedansari/Projects/UCL/UCL_YEAR_2/COMP0016-Systems-Engineering/transfer_learning/.venv/lib/python3.12/site-packages (from matplotlib) (1.26.4)\n",
      "Requirement already satisfied: packaging>=20.0 in /Users/ahmedansari/Projects/UCL/UCL_YEAR_2/COMP0016-Systems-Engineering/transfer_learning/.venv/lib/python3.12/site-packages (from matplotlib) (24.0)\n",
      "Requirement already satisfied: pillow>=8 in /Users/ahmedansari/Projects/UCL/UCL_YEAR_2/COMP0016-Systems-Engineering/transfer_learning/.venv/lib/python3.12/site-packages (from matplotlib) (10.3.0)\n",
      "Requirement already satisfied: pyparsing>=2.3.1 in /Users/ahmedansari/Projects/UCL/UCL_YEAR_2/COMP0016-Systems-Engineering/transfer_learning/.venv/lib/python3.12/site-packages (from matplotlib) (3.1.2)\n",
      "Requirement already satisfied: python-dateutil>=2.7 in /Users/ahmedansari/Projects/UCL/UCL_YEAR_2/COMP0016-Systems-Engineering/transfer_learning/.venv/lib/python3.12/site-packages (from matplotlib) (2.9.0.post0)\n",
      "Requirement already satisfied: six>=1.5 in /Users/ahmedansari/Projects/UCL/UCL_YEAR_2/COMP0016-Systems-Engineering/transfer_learning/.venv/lib/python3.12/site-packages (from python-dateutil>=2.7->matplotlib) (1.16.0)\n",
      "Note: you may need to restart the kernel to use updated packages.\n",
      "Requirement already satisfied: pillow in /Users/ahmedansari/Projects/UCL/UCL_YEAR_2/COMP0016-Systems-Engineering/transfer_learning/.venv/lib/python3.12/site-packages (10.3.0)\n",
      "Note: you may need to restart the kernel to use updated packages.\n",
      "Requirement already satisfied: setuptools in /Users/ahmedansari/Projects/UCL/UCL_YEAR_2/COMP0016-Systems-Engineering/transfer_learning/.venv/lib/python3.12/site-packages (69.2.0)\n",
      "Note: you may need to restart the kernel to use updated packages.\n",
      "Collecting tensorflow_hub\n",
      "  Using cached tensorflow_hub-0.16.1-py2.py3-none-any.whl.metadata (1.3 kB)\n",
      "Requirement already satisfied: numpy>=1.12.0 in /Users/ahmedansari/Projects/UCL/UCL_YEAR_2/COMP0016-Systems-Engineering/transfer_learning/.venv/lib/python3.12/site-packages (from tensorflow_hub) (1.26.4)\n",
      "Requirement already satisfied: protobuf>=3.19.6 in /Users/ahmedansari/Projects/UCL/UCL_YEAR_2/COMP0016-Systems-Engineering/transfer_learning/.venv/lib/python3.12/site-packages (from tensorflow_hub) (4.25.3)\n",
      "Collecting tf-keras>=2.14.1 (from tensorflow_hub)\n",
      "  Using cached tf_keras-2.16.0-py3-none-any.whl.metadata (1.6 kB)\n",
      "Requirement already satisfied: tensorflow<2.17,>=2.16 in /Users/ahmedansari/Projects/UCL/UCL_YEAR_2/COMP0016-Systems-Engineering/transfer_learning/.venv/lib/python3.12/site-packages (from tf-keras>=2.14.1->tensorflow_hub) (2.16.1)\n",
      "Requirement already satisfied: absl-py>=1.0.0 in /Users/ahmedansari/Projects/UCL/UCL_YEAR_2/COMP0016-Systems-Engineering/transfer_learning/.venv/lib/python3.12/site-packages (from tensorflow<2.17,>=2.16->tf-keras>=2.14.1->tensorflow_hub) (2.1.0)\n",
      "Requirement already satisfied: astunparse>=1.6.0 in /Users/ahmedansari/Projects/UCL/UCL_YEAR_2/COMP0016-Systems-Engineering/transfer_learning/.venv/lib/python3.12/site-packages (from tensorflow<2.17,>=2.16->tf-keras>=2.14.1->tensorflow_hub) (1.6.3)\n",
      "Requirement already satisfied: flatbuffers>=23.5.26 in /Users/ahmedansari/Projects/UCL/UCL_YEAR_2/COMP0016-Systems-Engineering/transfer_learning/.venv/lib/python3.12/site-packages (from tensorflow<2.17,>=2.16->tf-keras>=2.14.1->tensorflow_hub) (24.3.25)\n",
      "Requirement already satisfied: gast!=0.5.0,!=0.5.1,!=0.5.2,>=0.2.1 in /Users/ahmedansari/Projects/UCL/UCL_YEAR_2/COMP0016-Systems-Engineering/transfer_learning/.venv/lib/python3.12/site-packages (from tensorflow<2.17,>=2.16->tf-keras>=2.14.1->tensorflow_hub) (0.5.4)\n",
      "Requirement already satisfied: google-pasta>=0.1.1 in /Users/ahmedansari/Projects/UCL/UCL_YEAR_2/COMP0016-Systems-Engineering/transfer_learning/.venv/lib/python3.12/site-packages (from tensorflow<2.17,>=2.16->tf-keras>=2.14.1->tensorflow_hub) (0.2.0)\n",
      "Requirement already satisfied: h5py>=3.10.0 in /Users/ahmedansari/Projects/UCL/UCL_YEAR_2/COMP0016-Systems-Engineering/transfer_learning/.venv/lib/python3.12/site-packages (from tensorflow<2.17,>=2.16->tf-keras>=2.14.1->tensorflow_hub) (3.10.0)\n",
      "Requirement already satisfied: libclang>=13.0.0 in /Users/ahmedansari/Projects/UCL/UCL_YEAR_2/COMP0016-Systems-Engineering/transfer_learning/.venv/lib/python3.12/site-packages (from tensorflow<2.17,>=2.16->tf-keras>=2.14.1->tensorflow_hub) (18.1.1)\n",
      "Requirement already satisfied: ml-dtypes~=0.3.1 in /Users/ahmedansari/Projects/UCL/UCL_YEAR_2/COMP0016-Systems-Engineering/transfer_learning/.venv/lib/python3.12/site-packages (from tensorflow<2.17,>=2.16->tf-keras>=2.14.1->tensorflow_hub) (0.3.2)\n",
      "Requirement already satisfied: opt-einsum>=2.3.2 in /Users/ahmedansari/Projects/UCL/UCL_YEAR_2/COMP0016-Systems-Engineering/transfer_learning/.venv/lib/python3.12/site-packages (from tensorflow<2.17,>=2.16->tf-keras>=2.14.1->tensorflow_hub) (3.3.0)\n",
      "Requirement already satisfied: packaging in /Users/ahmedansari/Projects/UCL/UCL_YEAR_2/COMP0016-Systems-Engineering/transfer_learning/.venv/lib/python3.12/site-packages (from tensorflow<2.17,>=2.16->tf-keras>=2.14.1->tensorflow_hub) (24.0)\n",
      "Requirement already satisfied: requests<3,>=2.21.0 in /Users/ahmedansari/Projects/UCL/UCL_YEAR_2/COMP0016-Systems-Engineering/transfer_learning/.venv/lib/python3.12/site-packages (from tensorflow<2.17,>=2.16->tf-keras>=2.14.1->tensorflow_hub) (2.31.0)\n",
      "Requirement already satisfied: setuptools in /Users/ahmedansari/Projects/UCL/UCL_YEAR_2/COMP0016-Systems-Engineering/transfer_learning/.venv/lib/python3.12/site-packages (from tensorflow<2.17,>=2.16->tf-keras>=2.14.1->tensorflow_hub) (69.2.0)\n",
      "Requirement already satisfied: six>=1.12.0 in /Users/ahmedansari/Projects/UCL/UCL_YEAR_2/COMP0016-Systems-Engineering/transfer_learning/.venv/lib/python3.12/site-packages (from tensorflow<2.17,>=2.16->tf-keras>=2.14.1->tensorflow_hub) (1.16.0)\n",
      "Requirement already satisfied: termcolor>=1.1.0 in /Users/ahmedansari/Projects/UCL/UCL_YEAR_2/COMP0016-Systems-Engineering/transfer_learning/.venv/lib/python3.12/site-packages (from tensorflow<2.17,>=2.16->tf-keras>=2.14.1->tensorflow_hub) (2.4.0)\n",
      "Requirement already satisfied: typing-extensions>=3.6.6 in /Users/ahmedansari/Projects/UCL/UCL_YEAR_2/COMP0016-Systems-Engineering/transfer_learning/.venv/lib/python3.12/site-packages (from tensorflow<2.17,>=2.16->tf-keras>=2.14.1->tensorflow_hub) (4.11.0)\n",
      "Requirement already satisfied: wrapt>=1.11.0 in /Users/ahmedansari/Projects/UCL/UCL_YEAR_2/COMP0016-Systems-Engineering/transfer_learning/.venv/lib/python3.12/site-packages (from tensorflow<2.17,>=2.16->tf-keras>=2.14.1->tensorflow_hub) (1.16.0)\n",
      "Requirement already satisfied: grpcio<2.0,>=1.24.3 in /Users/ahmedansari/Projects/UCL/UCL_YEAR_2/COMP0016-Systems-Engineering/transfer_learning/.venv/lib/python3.12/site-packages (from tensorflow<2.17,>=2.16->tf-keras>=2.14.1->tensorflow_hub) (1.62.1)\n",
      "Requirement already satisfied: tensorboard<2.17,>=2.16 in /Users/ahmedansari/Projects/UCL/UCL_YEAR_2/COMP0016-Systems-Engineering/transfer_learning/.venv/lib/python3.12/site-packages (from tensorflow<2.17,>=2.16->tf-keras>=2.14.1->tensorflow_hub) (2.16.2)\n",
      "Requirement already satisfied: keras>=3.0.0 in /Users/ahmedansari/Projects/UCL/UCL_YEAR_2/COMP0016-Systems-Engineering/transfer_learning/.venv/lib/python3.12/site-packages (from tensorflow<2.17,>=2.16->tf-keras>=2.14.1->tensorflow_hub) (3.1.1)\n",
      "Requirement already satisfied: wheel<1.0,>=0.23.0 in /Users/ahmedansari/Projects/UCL/UCL_YEAR_2/COMP0016-Systems-Engineering/transfer_learning/.venv/lib/python3.12/site-packages (from astunparse>=1.6.0->tensorflow<2.17,>=2.16->tf-keras>=2.14.1->tensorflow_hub) (0.43.0)\n",
      "Requirement already satisfied: rich in /Users/ahmedansari/Projects/UCL/UCL_YEAR_2/COMP0016-Systems-Engineering/transfer_learning/.venv/lib/python3.12/site-packages (from keras>=3.0.0->tensorflow<2.17,>=2.16->tf-keras>=2.14.1->tensorflow_hub) (13.7.1)\n",
      "Requirement already satisfied: namex in /Users/ahmedansari/Projects/UCL/UCL_YEAR_2/COMP0016-Systems-Engineering/transfer_learning/.venv/lib/python3.12/site-packages (from keras>=3.0.0->tensorflow<2.17,>=2.16->tf-keras>=2.14.1->tensorflow_hub) (0.0.7)\n",
      "Requirement already satisfied: optree in /Users/ahmedansari/Projects/UCL/UCL_YEAR_2/COMP0016-Systems-Engineering/transfer_learning/.venv/lib/python3.12/site-packages (from keras>=3.0.0->tensorflow<2.17,>=2.16->tf-keras>=2.14.1->tensorflow_hub) (0.11.0)\n",
      "Requirement already satisfied: charset-normalizer<4,>=2 in /Users/ahmedansari/Projects/UCL/UCL_YEAR_2/COMP0016-Systems-Engineering/transfer_learning/.venv/lib/python3.12/site-packages (from requests<3,>=2.21.0->tensorflow<2.17,>=2.16->tf-keras>=2.14.1->tensorflow_hub) (3.3.2)\n",
      "Requirement already satisfied: idna<4,>=2.5 in /Users/ahmedansari/Projects/UCL/UCL_YEAR_2/COMP0016-Systems-Engineering/transfer_learning/.venv/lib/python3.12/site-packages (from requests<3,>=2.21.0->tensorflow<2.17,>=2.16->tf-keras>=2.14.1->tensorflow_hub) (3.6)\n",
      "Requirement already satisfied: urllib3<3,>=1.21.1 in /Users/ahmedansari/Projects/UCL/UCL_YEAR_2/COMP0016-Systems-Engineering/transfer_learning/.venv/lib/python3.12/site-packages (from requests<3,>=2.21.0->tensorflow<2.17,>=2.16->tf-keras>=2.14.1->tensorflow_hub) (2.2.1)\n",
      "Requirement already satisfied: certifi>=2017.4.17 in /Users/ahmedansari/Projects/UCL/UCL_YEAR_2/COMP0016-Systems-Engineering/transfer_learning/.venv/lib/python3.12/site-packages (from requests<3,>=2.21.0->tensorflow<2.17,>=2.16->tf-keras>=2.14.1->tensorflow_hub) (2024.2.2)\n",
      "Requirement already satisfied: markdown>=2.6.8 in /Users/ahmedansari/Projects/UCL/UCL_YEAR_2/COMP0016-Systems-Engineering/transfer_learning/.venv/lib/python3.12/site-packages (from tensorboard<2.17,>=2.16->tensorflow<2.17,>=2.16->tf-keras>=2.14.1->tensorflow_hub) (3.6)\n",
      "Requirement already satisfied: tensorboard-data-server<0.8.0,>=0.7.0 in /Users/ahmedansari/Projects/UCL/UCL_YEAR_2/COMP0016-Systems-Engineering/transfer_learning/.venv/lib/python3.12/site-packages (from tensorboard<2.17,>=2.16->tensorflow<2.17,>=2.16->tf-keras>=2.14.1->tensorflow_hub) (0.7.2)\n",
      "Requirement already satisfied: werkzeug>=1.0.1 in /Users/ahmedansari/Projects/UCL/UCL_YEAR_2/COMP0016-Systems-Engineering/transfer_learning/.venv/lib/python3.12/site-packages (from tensorboard<2.17,>=2.16->tensorflow<2.17,>=2.16->tf-keras>=2.14.1->tensorflow_hub) (3.0.2)\n",
      "Requirement already satisfied: MarkupSafe>=2.1.1 in /Users/ahmedansari/Projects/UCL/UCL_YEAR_2/COMP0016-Systems-Engineering/transfer_learning/.venv/lib/python3.12/site-packages (from werkzeug>=1.0.1->tensorboard<2.17,>=2.16->tensorflow<2.17,>=2.16->tf-keras>=2.14.1->tensorflow_hub) (2.1.5)\n",
      "Requirement already satisfied: markdown-it-py>=2.2.0 in /Users/ahmedansari/Projects/UCL/UCL_YEAR_2/COMP0016-Systems-Engineering/transfer_learning/.venv/lib/python3.12/site-packages (from rich->keras>=3.0.0->tensorflow<2.17,>=2.16->tf-keras>=2.14.1->tensorflow_hub) (3.0.0)\n",
      "Requirement already satisfied: pygments<3.0.0,>=2.13.0 in /Users/ahmedansari/Projects/UCL/UCL_YEAR_2/COMP0016-Systems-Engineering/transfer_learning/.venv/lib/python3.12/site-packages (from rich->keras>=3.0.0->tensorflow<2.17,>=2.16->tf-keras>=2.14.1->tensorflow_hub) (2.17.2)\n",
      "Requirement already satisfied: mdurl~=0.1 in /Users/ahmedansari/Projects/UCL/UCL_YEAR_2/COMP0016-Systems-Engineering/transfer_learning/.venv/lib/python3.12/site-packages (from markdown-it-py>=2.2.0->rich->keras>=3.0.0->tensorflow<2.17,>=2.16->tf-keras>=2.14.1->tensorflow_hub) (0.1.2)\n",
      "Using cached tensorflow_hub-0.16.1-py2.py3-none-any.whl (30 kB)\n",
      "Using cached tf_keras-2.16.0-py3-none-any.whl (1.7 MB)\n",
      "Installing collected packages: tf-keras, tensorflow_hub\n",
      "Successfully installed tensorflow_hub-0.16.1 tf-keras-2.16.0\n",
      "Note: you may need to restart the kernel to use updated packages.\n"
     ]
    }
   ],
   "source": [
    "%pip install numpy\n",
    "%pip install tensorflow\n",
    "%pip install matplotlib \n",
    "%pip install pillow\n",
    "%pip install setuptools\n",
    "%pip install tensorflow_hub"
   ]
  },
  {
   "cell_type": "code",
   "execution_count": 1,
   "metadata": {
    "execution": {
     "iopub.execute_input": "2023-10-27T06:09:41.322210Z",
     "iopub.status.busy": "2023-10-27T06:09:41.321954Z",
     "iopub.status.idle": "2023-10-27T06:09:44.120354Z",
     "shell.execute_reply": "2023-10-27T06:09:44.119609Z"
    },
    "id": "OGNpmn43C0O6"
   },
   "outputs": [],
   "source": [
    "import numpy as np\n",
    "import time\n",
    "import os\n",
    "os.environ[\"TF_USE_LEGACY_KERAS\"] = \"1\"\n",
    "import PIL.Image as Image\n",
    "import matplotlib.pylab as plt\n",
    "\n",
    "import tensorflow as tf\n",
    "import tensorflow_hub as hub\n",
    "\n",
    "\n",
    "import datetime\n",
    "\n",
    "\n",
    "%load_ext tensorboard"
   ]
  },
  {
   "cell_type": "markdown",
   "metadata": {
    "id": "xEY_Ow5loN6q"
   },
   "source": [
    "### Download the classifier\n",
    "\n",
    "Select a <a href=\"https://arxiv.org/abs/1801.04381\" class=\"external\">MobileNetV2</a> pre-trained model [from TensorFlow Hub](https://tfhub.dev/google/tf2-preview/mobilenet_v2/classification/2) and wrap it as a Keras layer with [`hub.KerasLayer`](https://www.tensorflow.org/hub/api_docs/python/hub/KerasLayer). Any <a href=\"https://tfhub.dev/s?q=tf2&module-type=image-classification/\" class=\"external\">compatible image classifier model</a> from TensorFlow Hub will work here, including the examples provided in the drop-down below."
   ]
  },
  {
   "cell_type": "code",
   "execution_count": 2,
   "metadata": {
    "execution": {
     "iopub.execute_input": "2023-10-27T06:09:44.124792Z",
     "iopub.status.busy": "2023-10-27T06:09:44.124179Z",
     "iopub.status.idle": "2023-10-27T06:09:44.127721Z",
     "shell.execute_reply": "2023-10-27T06:09:44.127087Z"
    },
    "id": "feiXojVXAbI9"
   },
   "outputs": [],
   "source": [
    "mobilenet_v2 =\"https://tfhub.dev/google/tf2-preview/mobilenet_v2/classification/4\"\n",
    "inception_v3 = \"https://tfhub.dev/google/imagenet/inception_v3/classification/5\"\n",
    "\n",
    "classifier_model = mobilenet_v2 #@param [\"mobilenet_v2\", \"inception_v3\"] {type:\"raw\"}"
   ]
  },
  {
   "cell_type": "code",
   "execution_count": 3,
   "metadata": {
    "execution": {
     "iopub.execute_input": "2023-10-27T06:09:44.130895Z",
     "iopub.status.busy": "2023-10-27T06:09:44.130333Z",
     "iopub.status.idle": "2023-10-27T06:09:49.158267Z",
     "shell.execute_reply": "2023-10-27T06:09:49.157518Z"
    },
    "id": "y_6bGjoPtzau"
   },
   "outputs": [],
   "source": [
    "IMAGE_SHAPE = (224, 224)\n",
    "\n",
    "classifier = tf.keras.Sequential([\n",
    "    hub.KerasLayer(classifier_model, input_shape=IMAGE_SHAPE+(3,))\n",
    "])"
   ]
  },
  {
   "cell_type": "markdown",
   "metadata": {
    "id": "amfzqn1Oo7Om"
   },
   "source": [
    "## Simple transfer learning"
   ]
  },
  {
   "cell_type": "markdown",
   "metadata": {
    "id": "K-nIpVJ94xrw"
   },
   "source": [
    "But what if you want to create a custom classifier using your own dataset that has classes that aren't included in the original ImageNet dataset (that the pre-trained model was trained on)?\n",
    "\n",
    "To do that, you can:\n",
    "\n",
    "1. Select a pre-trained model from TensorFlow Hub; and\n",
    "2. Retrain the top (last) layer to recognize the classes from your custom dataset."
   ]
  },
  {
   "cell_type": "markdown",
   "metadata": {
    "id": "Z93vvAdGxDMD"
   },
   "source": [
    "### Dataset\n",
    "\n",
    "In this example, you will use the TensorFlow flowers dataset:"
   ]
  },
  {
   "cell_type": "code",
   "execution_count": 35,
   "metadata": {
    "execution": {
     "iopub.execute_input": "2023-10-27T06:09:51.184825Z",
     "iopub.status.busy": "2023-10-27T06:09:51.184585Z",
     "iopub.status.idle": "2023-10-27T06:09:54.145478Z",
     "shell.execute_reply": "2023-10-27T06:09:54.144732Z"
    },
    "id": "DrIUV3V0xDL_"
   },
   "outputs": [
    {
     "name": "stdout",
     "output_type": "stream",
     "text": [
      "datasets/v1/validate datasets/v1/train\n"
     ]
    }
   ],
   "source": [
    "import pathlib\n",
    "\n",
    "data_root_train = pathlib.Path(\"./datasets/v1/train\").with_suffix('')\n",
    "data_root_val = pathlib.Path(\"./datasets/v1/validate\").with_suffix('')\n",
    "\n",
    "print(data_root_val, data_root_train)"
   ]
  },
  {
   "cell_type": "code",
   "execution_count": 36,
   "metadata": {},
   "outputs": [
    {
     "name": "stdout",
     "output_type": "stream",
     "text": [
      "Mean: [108.21201705 105.07084894  94.04962223]\n",
      "Standard Deviation: [65.1505389  62.59698394 64.23141208]\n"
     ]
    }
   ],
   "source": [
    "data_dir = data_root_train\n",
    "\n",
    "# List to store pixel values of all images\n",
    "pixel_values = []\n",
    "\n",
    "# Iterate through each image in the directory\n",
    "for class_dir in os.listdir(data_dir):\n",
    "    class_path = os.path.join(data_dir, class_dir)\n",
    "    if os.path.isdir(class_path):\n",
    "        # Iterate through each image in the class directory\n",
    "        for filename in os.listdir(class_path):\n",
    "            if filename.endswith(\".jpg\") or filename.endswith(\".png\"):  # Assuming images are in jpg or png format\n",
    "                # Open the image using PIL\n",
    "                img = Image.open(os.path.join(class_path, filename))\n",
    "                # Convert the image to numpy array\n",
    "                img_array = np.array(img)\n",
    "                # Flatten the image and append to pixel_values list\n",
    "                pixel_values.append(img_array.reshape(-1, 3))\n",
    "\n",
    "pixel_values = np.concatenate(pixel_values, axis=0)\n",
    "\n",
    "# Calculate mean and standard deviation using NumPy\n",
    "mean = np.mean(pixel_values, axis=0)\n",
    "std_dev = np.std(pixel_values, axis=0)\n",
    "\n",
    "print(\"Mean:\", mean)\n",
    "print(\"Standard Deviation:\", std_dev)"
   ]
  },
  {
   "cell_type": "markdown",
   "metadata": {
    "id": "jFHdp18ccah7"
   },
   "source": [
    "First, load this data into the model using the image data off disk with `tf.keras.utils.image_dataset_from_directory`, which will generate a `tf.data.Dataset`:"
   ]
  },
  {
   "cell_type": "code",
   "execution_count": 112,
   "metadata": {
    "execution": {
     "iopub.execute_input": "2023-10-27T06:09:54.149404Z",
     "iopub.status.busy": "2023-10-27T06:09:54.149156Z",
     "iopub.status.idle": "2023-10-27T06:09:55.607472Z",
     "shell.execute_reply": "2023-10-27T06:09:55.606746Z"
    },
    "id": "mqnsczfLgcwv"
   },
   "outputs": [
    {
     "name": "stdout",
     "output_type": "stream",
     "text": [
      "Found 2322 files belonging to 4 classes.\n",
      "Found 141 files belonging to 4 classes.\n"
     ]
    }
   ],
   "source": [
    "batch_size = 128\n",
    "img_height = 224\n",
    "img_width = 224\n",
    "\n",
    "train_ds = tf.keras.utils.image_dataset_from_directory(\n",
    "  str(data_root_train),\n",
    "  seed=123,\n",
    "  image_size=(img_height, img_width),\n",
    "  batch_size=batch_size\n",
    ")\n",
    "\n",
    "val_ds = tf.keras.utils.image_dataset_from_directory(\n",
    "  str(data_root_val),\n",
    "  seed=123,\n",
    "  image_size=(img_height, img_width),\n",
    "  batch_size=batch_size\n",
    ")"
   ]
  },
  {
   "cell_type": "code",
   "execution_count": 113,
   "metadata": {},
   "outputs": [
    {
     "name": "stdout",
     "output_type": "stream",
     "text": [
      "(128, 224, 224, 3)\n",
      "(128,)\n",
      "(128, 224, 224, 3)\n",
      "(128,)\n",
      "(128, 224, 224, 3)\n",
      "(128,)\n",
      "(128, 224, 224, 3)\n",
      "(128,)\n",
      "(128, 224, 224, 3)\n",
      "(128,)\n",
      "(128, 224, 224, 3)\n",
      "(128,)\n",
      "(128, 224, 224, 3)\n",
      "(128,)\n",
      "(128, 224, 224, 3)\n",
      "(128,)\n",
      "(128, 224, 224, 3)\n",
      "(128,)\n",
      "(128, 224, 224, 3)\n",
      "(128,)\n",
      "(128, 224, 224, 3)\n",
      "(128,)\n",
      "(128, 224, 224, 3)\n",
      "(128,)\n",
      "(128, 224, 224, 3)\n",
      "(128,)\n",
      "(128, 224, 224, 3)\n",
      "(128,)\n",
      "(128, 224, 224, 3)\n",
      "(128,)\n",
      "(128, 224, 224, 3)\n",
      "(128,)\n",
      "(128, 224, 224, 3)\n",
      "(128,)\n",
      "(128, 224, 224, 3)\n",
      "(128,)\n",
      "(18, 224, 224, 3)\n",
      "(18,)\n"
     ]
    },
    {
     "name": "stderr",
     "output_type": "stream",
     "text": [
      "2024-04-06 03:07:43.554141: W tensorflow/core/framework/local_rendezvous.cc:404] Local rendezvous is aborting with status: OUT_OF_RANGE: End of sequence\n"
     ]
    }
   ],
   "source": [
    "for image_batch, labels_batch in train_ds:\n",
    "  print(image_batch.shape)\n",
    "  print(labels_batch.shape)"
   ]
  },
  {
   "cell_type": "markdown",
   "metadata": {
    "id": "cCrSRlomEIZ4"
   },
   "source": [
    "The Dataset has these many classes:"
   ]
  },
  {
   "cell_type": "code",
   "execution_count": 114,
   "metadata": {
    "execution": {
     "iopub.execute_input": "2023-10-27T06:09:55.611410Z",
     "iopub.status.busy": "2023-10-27T06:09:55.610843Z",
     "iopub.status.idle": "2023-10-27T06:09:55.615245Z",
     "shell.execute_reply": "2023-10-27T06:09:55.614510Z"
    },
    "id": "AFgDHs6VEFRD"
   },
   "outputs": [
    {
     "name": "stdout",
     "output_type": "stream",
     "text": [
      "LAN\n",
      "POWER PORT\n",
      "POWER SWITCH\n",
      "WAN ETHERNET\n"
     ]
    }
   ],
   "source": [
    "class_names = np.array(train_ds.class_names)\n",
    "for x in class_names:\n",
    "    print(x)"
   ]
  },
  {
   "cell_type": "markdown",
   "metadata": {
    "id": "L0Btd0V3C8h4"
   },
   "source": [
    "Second, because TensorFlow Hub's convention for image models is to expect float inputs in the `[0, 1]` range, use the `tf.keras.layers.Rescaling` preprocessing layer to achieve this."
   ]
  },
  {
   "cell_type": "markdown",
   "metadata": {
    "id": "Rs6gfO-ApTQW"
   },
   "source": [
    "Note: You could also include the `tf.keras.layers.Rescaling` layer inside the model. Refer to the [Working with preprocessing layers](https://www.tensorflow.org/guide/keras/preprocessing_layers) guide for a discussion of the tradeoffs."
   ]
  },
  {
   "cell_type": "code",
   "execution_count": 115,
   "metadata": {
    "execution": {
     "iopub.execute_input": "2023-10-27T06:09:55.618683Z",
     "iopub.status.busy": "2023-10-27T06:09:55.618429Z",
     "iopub.status.idle": "2023-10-27T06:09:55.662318Z",
     "shell.execute_reply": "2023-10-27T06:09:55.661585Z"
    },
    "id": "8NzDDWEMCL20"
   },
   "outputs": [],
   "source": [
    "normalization_layer = tf.keras.layers.Rescaling(1./255)\n",
    "train_ds = train_ds.map(lambda x, y: (normalization_layer(x), y)) # Where x—images, y—labels.\n",
    "val_ds = val_ds.map(lambda x, y: (normalization_layer(x), y)) # Where x—images, y—labels."
   ]
  },
  {
   "cell_type": "markdown",
   "metadata": {
    "id": "IW-BUJ-NC7y-"
   },
   "source": [
    "Third, finish the input pipeline by using buffered prefetching with `Dataset.prefetch`, so you can yield the data from disk without I/O blocking issues.\n",
    "\n",
    "These are some of the most important `tf.data` methods you should use when loading data. Interested readers can learn more about them, as well as how to cache data to disk and other techniques, in the [Better performance with the tf.data API](https://www.tensorflow.org/guide/data_performance#prefetching) guide."
   ]
  },
  {
   "cell_type": "code",
   "execution_count": 116,
   "metadata": {
    "execution": {
     "iopub.execute_input": "2023-10-27T06:09:55.666216Z",
     "iopub.status.busy": "2023-10-27T06:09:55.665585Z",
     "iopub.status.idle": "2023-10-27T06:09:55.675161Z",
     "shell.execute_reply": "2023-10-27T06:09:55.674534Z"
    },
    "id": "ZmJMKFw7C4ki"
   },
   "outputs": [
    {
     "name": "stdout",
     "output_type": "stream",
     "text": [
      "<_PrefetchDataset element_spec=(TensorSpec(shape=(None, 224, 224, 3), dtype=tf.float32, name=None), TensorSpec(shape=(None,), dtype=tf.int32, name=None))>\n"
     ]
    }
   ],
   "source": [
    "AUTOTUNE = tf.data.AUTOTUNE\n",
    "train_ds = train_ds.cache().prefetch(buffer_size=AUTOTUNE)\n",
    "val_ds = val_ds.cache().prefetch(buffer_size=AUTOTUNE)\n",
    "print(train_ds)"
   ]
  },
  {
   "cell_type": "code",
   "execution_count": 117,
   "metadata": {
    "execution": {
     "iopub.execute_input": "2023-10-27T06:09:55.678394Z",
     "iopub.status.busy": "2023-10-27T06:09:55.678142Z",
     "iopub.status.idle": "2023-10-27T06:09:55.788216Z",
     "shell.execute_reply": "2023-10-27T06:09:55.787372Z"
    },
    "id": "m0JyiEZ0imgf"
   },
   "outputs": [
    {
     "name": "stdout",
     "output_type": "stream",
     "text": [
      "(128, 224, 224, 3)\n",
      "(128,)\n",
      "tf.Tensor(\n",
      "[[[8.4715560e-03 8.4715560e-03 8.4715560e-03 ... 3.2019471e-03\n",
      "   3.2019471e-03 3.2019471e-03]\n",
      "  [8.4715560e-03 8.4715560e-03 8.4715560e-03 ... 3.2019471e-03\n",
      "   3.2019471e-03 3.2019471e-03]\n",
      "  [8.4715560e-03 8.4715560e-03 8.4715560e-03 ... 3.2019471e-03\n",
      "   3.2019471e-03 3.2019471e-03]\n",
      "  ...\n",
      "  [1.7634952e-02 1.7634952e-02 1.7634952e-02 ... 1.9476684e-02\n",
      "   1.9476684e-02 1.9476684e-02]\n",
      "  [1.7634952e-02 1.7634952e-02 1.7634952e-02 ... 1.9476684e-02\n",
      "   1.9476684e-02 1.9476684e-02]\n",
      "  [1.7634952e-02 1.7634952e-02 1.7634952e-02 ... 1.9476684e-02\n",
      "   1.9476684e-02 1.9476684e-02]]\n",
      "\n",
      " [[0.0000000e+00 0.0000000e+00 0.0000000e+00 ... 0.0000000e+00\n",
      "   0.0000000e+00 0.0000000e+00]\n",
      "  [0.0000000e+00 0.0000000e+00 0.0000000e+00 ... 0.0000000e+00\n",
      "   0.0000000e+00 0.0000000e+00]\n",
      "  [0.0000000e+00 0.0000000e+00 0.0000000e+00 ... 0.0000000e+00\n",
      "   0.0000000e+00 0.0000000e+00]\n",
      "  ...\n",
      "  [0.0000000e+00 0.0000000e+00 0.0000000e+00 ... 0.0000000e+00\n",
      "   0.0000000e+00 0.0000000e+00]\n",
      "  [0.0000000e+00 0.0000000e+00 0.0000000e+00 ... 0.0000000e+00\n",
      "   0.0000000e+00 0.0000000e+00]\n",
      "  [0.0000000e+00 0.0000000e+00 0.0000000e+00 ... 0.0000000e+00\n",
      "   0.0000000e+00 0.0000000e+00]]\n",
      "\n",
      " [[5.1364403e-02 5.1364403e-02 5.1364403e-02 ... 4.3707851e-02\n",
      "   4.3707851e-02 4.3707851e-02]\n",
      "  [5.1364403e-02 5.1364403e-02 5.1364403e-02 ... 4.3707851e-02\n",
      "   4.3707851e-02 4.3707851e-02]\n",
      "  [5.1364403e-02 5.1364403e-02 5.1364403e-02 ... 4.3707851e-02\n",
      "   4.3707851e-02 4.3707851e-02]\n",
      "  ...\n",
      "  [6.1284758e-02 6.1284758e-02 6.1284758e-02 ... 3.2019477e-02\n",
      "   3.2019477e-02 3.2019477e-02]\n",
      "  [6.1284758e-02 6.1284758e-02 6.1284758e-02 ... 3.2019477e-02\n",
      "   3.2019477e-02 3.2019477e-02]\n",
      "  [6.1284758e-02 6.1284758e-02 6.1284758e-02 ... 3.2019477e-02\n",
      "   3.2019477e-02 3.2019477e-02]]\n",
      "\n",
      " ...\n",
      "\n",
      " [[0.0000000e+00 0.0000000e+00 0.0000000e+00 ... 0.0000000e+00\n",
      "   0.0000000e+00 0.0000000e+00]\n",
      "  [0.0000000e+00 0.0000000e+00 0.0000000e+00 ... 0.0000000e+00\n",
      "   0.0000000e+00 0.0000000e+00]\n",
      "  [0.0000000e+00 0.0000000e+00 0.0000000e+00 ... 0.0000000e+00\n",
      "   0.0000000e+00 0.0000000e+00]\n",
      "  ...\n",
      "  [0.0000000e+00 0.0000000e+00 0.0000000e+00 ... 8.4715560e-03\n",
      "   8.4715560e-03 8.4715560e-03]\n",
      "  [0.0000000e+00 0.0000000e+00 0.0000000e+00 ... 8.4715560e-03\n",
      "   8.4715560e-03 8.4715560e-03]\n",
      "  [0.0000000e+00 0.0000000e+00 0.0000000e+00 ... 8.4715560e-03\n",
      "   8.4715560e-03 8.4715560e-03]]\n",
      "\n",
      " [[0.0000000e+00 0.0000000e+00 0.0000000e+00 ... 0.0000000e+00\n",
      "   0.0000000e+00 0.0000000e+00]\n",
      "  [0.0000000e+00 0.0000000e+00 0.0000000e+00 ... 0.0000000e+00\n",
      "   0.0000000e+00 0.0000000e+00]\n",
      "  [0.0000000e+00 0.0000000e+00 0.0000000e+00 ... 0.0000000e+00\n",
      "   0.0000000e+00 0.0000000e+00]\n",
      "  ...\n",
      "  [0.0000000e+00 0.0000000e+00 0.0000000e+00 ... 3.7252903e-09\n",
      "   3.7252903e-09 3.7252903e-09]\n",
      "  [0.0000000e+00 0.0000000e+00 0.0000000e+00 ... 3.7252903e-09\n",
      "   3.7252903e-09 3.7252903e-09]\n",
      "  [0.0000000e+00 0.0000000e+00 0.0000000e+00 ... 3.7252903e-09\n",
      "   3.7252903e-09 3.7252903e-09]]\n",
      "\n",
      " [[1.2940515e-02 1.2940515e-02 1.2940515e-02 ... 1.0292821e-02\n",
      "   1.0292821e-02 1.0292821e-02]\n",
      "  [1.2940515e-02 1.2940515e-02 1.2940515e-02 ... 1.0292821e-02\n",
      "   1.0292821e-02 1.0292821e-02]\n",
      "  [1.2940515e-02 1.2940515e-02 1.2940515e-02 ... 1.0292821e-02\n",
      "   1.0292821e-02 1.0292821e-02]\n",
      "  ...\n",
      "  [1.8761698e-02 1.8761698e-02 1.8761698e-02 ... 8.4715560e-03\n",
      "   8.4715560e-03 8.4715560e-03]\n",
      "  [1.8761698e-02 1.8761698e-02 1.8761698e-02 ... 8.4715560e-03\n",
      "   8.4715560e-03 8.4715560e-03]\n",
      "  [1.8761698e-02 1.8761698e-02 1.8761698e-02 ... 8.4715560e-03\n",
      "   8.4715560e-03 8.4715560e-03]]], shape=(128, 224, 224), dtype=float32)\n",
      "(128, 224, 224, 3)\n",
      "(128,)\n",
      "tf.Tensor(\n",
      "[[[0.06094925 0.06094925 0.06094925 ... 0.05604171 0.05604171 0.05604171]\n",
      "  [0.06094925 0.06094925 0.06094925 ... 0.05604171 0.05604171 0.05604171]\n",
      "  [0.06094925 0.06094925 0.06094925 ... 0.05604171 0.05604171 0.05604171]\n",
      "  ...\n",
      "  [0.01694311 0.01694311 0.01694311 ... 0.00978211 0.00978211 0.00978211]\n",
      "  [0.01694311 0.01694311 0.01694311 ... 0.00978211 0.00978211 0.00978211]\n",
      "  [0.01694311 0.01694311 0.01694311 ... 0.00978211 0.00978211 0.00978211]]\n",
      "\n",
      " [[0.01029282 0.01029282 0.01029282 ... 0.01478916 0.01478916 0.01478916]\n",
      "  [0.01029282 0.01029282 0.01029282 ... 0.01478916 0.01478916 0.01478916]\n",
      "  [0.01029282 0.01029282 0.01029282 ... 0.01478916 0.01478916 0.01478916]\n",
      "  ...\n",
      "  [0.01029282 0.01029282 0.01029282 ... 0.02934633 0.02934633 0.02934633]\n",
      "  [0.01029282 0.01029282 0.01029282 ... 0.02934633 0.02934633 0.02934633]\n",
      "  [0.01029282 0.01029282 0.01029282 ... 0.02934633 0.02934633 0.02934633]]\n",
      "\n",
      " [[0.05399184 0.05399184 0.05399184 ... 0.05123117 0.05123117 0.05123117]\n",
      "  [0.05399184 0.05399184 0.05399184 ... 0.05123117 0.05123117 0.05123117]\n",
      "  [0.05399184 0.05399184 0.05399184 ... 0.05123117 0.05123117 0.05123117]\n",
      "  ...\n",
      "  [0.04307781 0.04307781 0.04307781 ... 0.05153048 0.05153048 0.05153048]\n",
      "  [0.04307781 0.04307781 0.04307781 ... 0.05153048 0.05153048 0.05153048]\n",
      "  [0.04307781 0.04307781 0.04307781 ... 0.05153048 0.05153048 0.05153048]]\n",
      "\n",
      " ...\n",
      "\n",
      " [[0.         0.         0.         ... 0.         0.         0.        ]\n",
      "  [0.         0.         0.         ... 0.         0.         0.        ]\n",
      "  [0.         0.         0.         ... 0.         0.         0.        ]\n",
      "  ...\n",
      "  [0.         0.         0.         ... 0.         0.         0.        ]\n",
      "  [0.         0.         0.         ... 0.         0.         0.        ]\n",
      "  [0.         0.         0.         ... 0.         0.         0.        ]]\n",
      "\n",
      " [[0.00369729 0.00369729 0.00369729 ... 0.0230896  0.0230896  0.0230896 ]\n",
      "  [0.00369729 0.00369729 0.00369729 ... 0.0230896  0.0230896  0.0230896 ]\n",
      "  [0.00369729 0.00369729 0.00369729 ... 0.0230896  0.0230896  0.0230896 ]\n",
      "  ...\n",
      "  [0.01029285 0.01029285 0.01029285 ... 0.08913845 0.08913845 0.08913845]\n",
      "  [0.01029285 0.01029285 0.01029285 ... 0.08913845 0.08913845 0.08913845]\n",
      "  [0.01029285 0.01029285 0.01029285 ... 0.08913845 0.08913845 0.08913845]]\n",
      "\n",
      " [[0.00666538 0.00666538 0.00666538 ... 0.00666538 0.00666538 0.00666538]\n",
      "  [0.00666538 0.00666538 0.00666538 ... 0.00666538 0.00666538 0.00666538]\n",
      "  [0.00666538 0.00666538 0.00666538 ... 0.00666538 0.00666538 0.00666538]\n",
      "  ...\n",
      "  [0.00666538 0.00666538 0.00666538 ... 0.00666538 0.00666538 0.00666538]\n",
      "  [0.00666538 0.00666538 0.00666538 ... 0.00666538 0.00666538 0.00666538]\n",
      "  [0.00666538 0.00666538 0.00666538 ... 0.00666538 0.00666538 0.00666538]]], shape=(128, 224, 224), dtype=float32)\n",
      "(128, 224, 224, 3)\n",
      "(128,)\n",
      "tf.Tensor(\n",
      "[[[5.1231161e-02 5.1231161e-02 5.1231161e-02 ... 6.5802425e-02\n",
      "   6.5802425e-02 6.5802425e-02]\n",
      "  [5.1231161e-02 5.1231161e-02 5.1231161e-02 ... 6.5802425e-02\n",
      "   6.5802425e-02 6.5802425e-02]\n",
      "  [5.1231161e-02 5.1231161e-02 5.1231161e-02 ... 6.5802425e-02\n",
      "   6.5802425e-02 6.5802425e-02]\n",
      "  ...\n",
      "  [7.9362661e-02 7.9362661e-02 7.9362661e-02 ... 5.0322559e-02\n",
      "   5.0322559e-02 5.0322559e-02]\n",
      "  [7.9362661e-02 7.9362661e-02 7.9362661e-02 ... 5.0322559e-02\n",
      "   5.0322559e-02 5.0322559e-02]\n",
      "  [7.9362661e-02 7.9362661e-02 7.9362661e-02 ... 5.0322559e-02\n",
      "   5.0322559e-02 5.0322559e-02]]\n",
      "\n",
      " [[8.4715560e-03 8.4715560e-03 8.4715560e-03 ... 8.4715560e-03\n",
      "   8.4715560e-03 8.4715560e-03]\n",
      "  [8.4715560e-03 8.4715560e-03 8.4715560e-03 ... 8.4715560e-03\n",
      "   8.4715560e-03 8.4715560e-03]\n",
      "  [8.4715560e-03 8.4715560e-03 8.4715560e-03 ... 8.4715560e-03\n",
      "   8.4715560e-03 8.4715560e-03]\n",
      "  ...\n",
      "  [8.4715560e-03 8.4715560e-03 8.4715560e-03 ... 8.4715560e-03\n",
      "   8.4715560e-03 8.4715560e-03]\n",
      "  [8.4715560e-03 8.4715560e-03 8.4715560e-03 ... 8.4715560e-03\n",
      "   8.4715560e-03 8.4715560e-03]\n",
      "  [8.4715560e-03 8.4715560e-03 8.4715560e-03 ... 8.4715560e-03\n",
      "   8.4715560e-03 8.4715560e-03]]\n",
      "\n",
      " [[0.0000000e+00 0.0000000e+00 0.0000000e+00 ... 0.0000000e+00\n",
      "   0.0000000e+00 0.0000000e+00]\n",
      "  [0.0000000e+00 0.0000000e+00 0.0000000e+00 ... 0.0000000e+00\n",
      "   0.0000000e+00 0.0000000e+00]\n",
      "  [0.0000000e+00 0.0000000e+00 0.0000000e+00 ... 0.0000000e+00\n",
      "   0.0000000e+00 0.0000000e+00]\n",
      "  ...\n",
      "  [0.0000000e+00 0.0000000e+00 0.0000000e+00 ... 0.0000000e+00\n",
      "   0.0000000e+00 0.0000000e+00]\n",
      "  [0.0000000e+00 0.0000000e+00 0.0000000e+00 ... 0.0000000e+00\n",
      "   0.0000000e+00 0.0000000e+00]\n",
      "  [0.0000000e+00 0.0000000e+00 0.0000000e+00 ... 0.0000000e+00\n",
      "   0.0000000e+00 0.0000000e+00]]\n",
      "\n",
      " ...\n",
      "\n",
      " [[1.7634952e-02 1.7634952e-02 1.7634952e-02 ... 8.0580581e-03\n",
      "   8.0580581e-03 8.0580581e-03]\n",
      "  [1.7634952e-02 1.7634952e-02 1.7634952e-02 ... 8.0580581e-03\n",
      "   8.0580581e-03 8.0580581e-03]\n",
      "  [1.7634952e-02 1.7634952e-02 1.7634952e-02 ... 8.0580581e-03\n",
      "   8.0580581e-03 8.0580581e-03]\n",
      "  ...\n",
      "  [2.8817523e-02 2.8817523e-02 2.8817523e-02 ... 3.0544631e-02\n",
      "   3.0544631e-02 3.0544631e-02]\n",
      "  [2.8817523e-02 2.8817523e-02 2.8817523e-02 ... 3.0544631e-02\n",
      "   3.0544631e-02 3.0544631e-02]\n",
      "  [2.8817523e-02 2.8817523e-02 2.8817523e-02 ... 3.0544631e-02\n",
      "   3.0544631e-02 3.0544631e-02]]\n",
      "\n",
      " [[1.2940517e-02 1.2940517e-02 1.2940517e-02 ... 8.4715569e-03\n",
      "   8.4715569e-03 8.4715569e-03]\n",
      "  [1.2940517e-02 1.2940517e-02 1.2940517e-02 ... 8.4715569e-03\n",
      "   8.4715569e-03 8.4715569e-03]\n",
      "  [1.2940517e-02 1.2940517e-02 1.2940517e-02 ... 8.4715569e-03\n",
      "   8.4715569e-03 8.4715569e-03]\n",
      "  ...\n",
      "  [3.2862235e-02 3.2862235e-02 3.2862235e-02 ... 8.4715569e-03\n",
      "   8.4715569e-03 8.4715569e-03]\n",
      "  [3.2862235e-02 3.2862235e-02 3.2862235e-02 ... 8.4715569e-03\n",
      "   8.4715569e-03 8.4715569e-03]\n",
      "  [3.2862235e-02 3.2862235e-02 3.2862235e-02 ... 8.4715569e-03\n",
      "   8.4715569e-03 8.4715569e-03]]\n",
      "\n",
      " [[3.7252903e-09 3.7252903e-09 3.7252903e-09 ... 0.0000000e+00\n",
      "   0.0000000e+00 0.0000000e+00]\n",
      "  [3.7252903e-09 3.7252903e-09 3.7252903e-09 ... 0.0000000e+00\n",
      "   0.0000000e+00 0.0000000e+00]\n",
      "  [3.7252903e-09 3.7252903e-09 3.7252903e-09 ... 0.0000000e+00\n",
      "   0.0000000e+00 0.0000000e+00]\n",
      "  ...\n",
      "  [8.4715560e-03 8.4715560e-03 8.4715560e-03 ... 8.4715560e-03\n",
      "   8.4715560e-03 8.4715560e-03]\n",
      "  [8.4715560e-03 8.4715560e-03 8.4715560e-03 ... 8.4715560e-03\n",
      "   8.4715560e-03 8.4715560e-03]\n",
      "  [8.4715560e-03 8.4715560e-03 8.4715560e-03 ... 8.4715560e-03\n",
      "   8.4715560e-03 8.4715560e-03]]], shape=(128, 224, 224), dtype=float32)\n",
      "(128, 224, 224, 3)\n",
      "(128,)\n",
      "tf.Tensor(\n",
      "[[[0.0000000e+00 0.0000000e+00 0.0000000e+00 ... 1.8486453e-03\n",
      "   1.8486453e-03 1.8486453e-03]\n",
      "  [0.0000000e+00 0.0000000e+00 0.0000000e+00 ... 1.8486453e-03\n",
      "   1.8486453e-03 1.8486453e-03]\n",
      "  [0.0000000e+00 0.0000000e+00 0.0000000e+00 ... 1.8486453e-03\n",
      "   1.8486453e-03 1.8486453e-03]\n",
      "  ...\n",
      "  [3.2019475e-03 3.2019475e-03 3.2019475e-03 ... 1.4438381e-02\n",
      "   1.4438381e-02 1.4438381e-02]\n",
      "  [3.2019475e-03 3.2019475e-03 3.2019475e-03 ... 1.4438381e-02\n",
      "   1.4438381e-02 1.4438381e-02]\n",
      "  [3.2019475e-03 3.2019475e-03 3.2019475e-03 ... 1.4438381e-02\n",
      "   1.4438381e-02 1.4438381e-02]]\n",
      "\n",
      " [[4.8910552e-03 4.8910552e-03 4.8910552e-03 ... 2.5008006e-02\n",
      "   2.5008006e-02 2.5008006e-02]\n",
      "  [4.8910552e-03 4.8910552e-03 4.8910552e-03 ... 2.5008006e-02\n",
      "   2.5008006e-02 2.5008006e-02]\n",
      "  [4.8910552e-03 4.8910552e-03 4.8910552e-03 ... 2.5008006e-02\n",
      "   2.5008006e-02 2.5008006e-02]\n",
      "  ...\n",
      "  [1.0292821e-02 1.0292821e-02 1.0292821e-02 ... 3.0544631e-02\n",
      "   3.0544631e-02 3.0544631e-02]\n",
      "  [1.0292821e-02 1.0292821e-02 1.0292821e-02 ... 3.0544631e-02\n",
      "   3.0544631e-02 3.0544631e-02]\n",
      "  [1.0292821e-02 1.0292821e-02 1.0292821e-02 ... 3.0544631e-02\n",
      "   3.0544631e-02 3.0544631e-02]]\n",
      "\n",
      " [[0.0000000e+00 0.0000000e+00 0.0000000e+00 ... 0.0000000e+00\n",
      "   0.0000000e+00 0.0000000e+00]\n",
      "  [0.0000000e+00 0.0000000e+00 0.0000000e+00 ... 0.0000000e+00\n",
      "   0.0000000e+00 0.0000000e+00]\n",
      "  [0.0000000e+00 0.0000000e+00 0.0000000e+00 ... 0.0000000e+00\n",
      "   0.0000000e+00 0.0000000e+00]\n",
      "  ...\n",
      "  [0.0000000e+00 0.0000000e+00 0.0000000e+00 ... 1.8626451e-09\n",
      "   1.8626451e-09 1.8626451e-09]\n",
      "  [0.0000000e+00 0.0000000e+00 0.0000000e+00 ... 1.8626451e-09\n",
      "   1.8626451e-09 1.8626451e-09]\n",
      "  [0.0000000e+00 0.0000000e+00 0.0000000e+00 ... 1.8626451e-09\n",
      "   1.8626451e-09 1.8626451e-09]]\n",
      "\n",
      " ...\n",
      "\n",
      " [[2.4244752e-02 2.4244752e-02 2.4244752e-02 ... 1.8761698e-02\n",
      "   1.8761698e-02 1.8761698e-02]\n",
      "  [2.4244752e-02 2.4244752e-02 2.4244752e-02 ... 1.8761698e-02\n",
      "   1.8761698e-02 1.8761698e-02]\n",
      "  [2.4244752e-02 2.4244752e-02 2.4244752e-02 ... 1.8761698e-02\n",
      "   1.8761698e-02 1.8761698e-02]\n",
      "  ...\n",
      "  [1.0292821e-02 1.0292821e-02 1.0292821e-02 ... 3.2862261e-02\n",
      "   3.2862261e-02 3.2862261e-02]\n",
      "  [1.0292821e-02 1.0292821e-02 1.0292821e-02 ... 3.2862261e-02\n",
      "   3.2862261e-02 3.2862261e-02]\n",
      "  [1.0292821e-02 1.0292821e-02 1.0292821e-02 ... 3.2862261e-02\n",
      "   3.2862261e-02 3.2862261e-02]]\n",
      "\n",
      " [[8.4715700e-03 8.4715700e-03 8.4715700e-03 ... 1.1244869e-02\n",
      "   1.1244869e-02 1.1244869e-02]\n",
      "  [8.4715700e-03 8.4715700e-03 8.4715700e-03 ... 1.1244869e-02\n",
      "   1.1244869e-02 1.1244869e-02]\n",
      "  [8.4715700e-03 8.4715700e-03 8.4715700e-03 ... 1.1244869e-02\n",
      "   1.1244869e-02 1.1244869e-02]\n",
      "  ...\n",
      "  [1.5794830e-02 1.5794830e-02 1.5794830e-02 ... 4.8910570e-03\n",
      "   4.8910570e-03 4.8910570e-03]\n",
      "  [1.5794830e-02 1.5794830e-02 1.5794830e-02 ... 4.8910570e-03\n",
      "   4.8910570e-03 4.8910570e-03]\n",
      "  [1.5794830e-02 1.5794830e-02 1.5794830e-02 ... 4.8910570e-03\n",
      "   4.8910570e-03 4.8910570e-03]]\n",
      "\n",
      " [[8.4715560e-03 8.4715560e-03 8.4715560e-03 ... 8.4715746e-03\n",
      "   8.4715746e-03 8.4715746e-03]\n",
      "  [8.4715560e-03 8.4715560e-03 8.4715560e-03 ... 8.4715746e-03\n",
      "   8.4715746e-03 8.4715746e-03]\n",
      "  [8.4715560e-03 8.4715560e-03 8.4715560e-03 ... 8.4715746e-03\n",
      "   8.4715746e-03 8.4715746e-03]\n",
      "  ...\n",
      "  [8.4715560e-03 8.4715560e-03 8.4715560e-03 ... 8.4715560e-03\n",
      "   8.4715560e-03 8.4715560e-03]\n",
      "  [8.4715560e-03 8.4715560e-03 8.4715560e-03 ... 8.4715560e-03\n",
      "   8.4715560e-03 8.4715560e-03]\n",
      "  [8.4715560e-03 8.4715560e-03 8.4715560e-03 ... 8.4715560e-03\n",
      "   8.4715560e-03 8.4715560e-03]]], shape=(128, 224, 224), dtype=float32)\n",
      "(128, 224, 224, 3)\n",
      "(128,)\n",
      "tf.Tensor(\n",
      "[[[0.01467317 0.01467317 0.01467317 ... 0.01124487 0.01124487 0.01124487]\n",
      "  [0.01467317 0.01467317 0.01467317 ... 0.01124487 0.01124487 0.01124487]\n",
      "  [0.01467317 0.01467317 0.01467317 ... 0.01124487 0.01124487 0.01124487]\n",
      "  ...\n",
      "  [0.00666538 0.00666538 0.00666538 ... 0.07204974 0.07204974 0.07204974]\n",
      "  [0.00666538 0.00666538 0.00666538 ... 0.07204974 0.07204974 0.07204974]\n",
      "  [0.00666538 0.00666538 0.00666538 ... 0.07204974 0.07204974 0.07204974]]\n",
      "\n",
      " [[0.01029282 0.01029282 0.01029282 ... 0.01029282 0.01029282 0.01029282]\n",
      "  [0.01029282 0.01029282 0.01029282 ... 0.01029282 0.01029282 0.01029282]\n",
      "  [0.01029282 0.01029282 0.01029282 ... 0.01029282 0.01029282 0.01029282]\n",
      "  ...\n",
      "  [0.01154478 0.01154478 0.01154478 ... 0.03393661 0.03393661 0.03393661]\n",
      "  [0.01154478 0.01154478 0.01154478 ... 0.03393661 0.03393661 0.03393661]\n",
      "  [0.01154478 0.01154478 0.01154478 ... 0.03393661 0.03393661 0.03393661]]\n",
      "\n",
      " [[0.00489106 0.00489106 0.00489106 ... 0.         0.         0.        ]\n",
      "  [0.00489106 0.00489106 0.00489106 ... 0.         0.         0.        ]\n",
      "  [0.00489106 0.00489106 0.00489106 ... 0.         0.         0.        ]\n",
      "  ...\n",
      "  [0.01029285 0.01029285 0.01029285 ... 0.23497437 0.23497437 0.23497437]\n",
      "  [0.01029285 0.01029285 0.01029285 ... 0.23497437 0.23497437 0.23497437]\n",
      "  [0.01029285 0.01029285 0.01029285 ... 0.23497437 0.23497437 0.23497437]]\n",
      "\n",
      " ...\n",
      "\n",
      " [[0.00489106 0.00489106 0.00489106 ... 0.01820704 0.01820704 0.01820704]\n",
      "  [0.00489106 0.00489106 0.00489106 ... 0.01820704 0.01820704 0.01820704]\n",
      "  [0.00489106 0.00489106 0.00489106 ... 0.01820704 0.01820704 0.01820704]\n",
      "  ...\n",
      "  [0.00320195 0.00320195 0.00320195 ... 0.04227702 0.04227702 0.04227702]\n",
      "  [0.00320195 0.00320195 0.00320195 ... 0.04227702 0.04227702 0.04227702]\n",
      "  [0.00320195 0.00320195 0.00320195 ... 0.04227702 0.04227702 0.04227702]]\n",
      "\n",
      " [[0.04651097 0.04651097 0.04651097 ... 0.09293005 0.09293005 0.09293005]\n",
      "  [0.04651097 0.04651097 0.04651097 ... 0.09293005 0.09293005 0.09293005]\n",
      "  [0.04651097 0.04651097 0.04651097 ... 0.09293005 0.09293005 0.09293005]\n",
      "  ...\n",
      "  [0.04752852 0.04752852 0.04752852 ... 0.09375383 0.09375383 0.09375383]\n",
      "  [0.04752852 0.04752852 0.04752852 ... 0.09375383 0.09375383 0.09375383]\n",
      "  [0.04752852 0.04752852 0.04752852 ... 0.09375383 0.09375383 0.09375383]]\n",
      "\n",
      " [[0.0716216  0.07388162 0.08327635 ... 0.01361958 0.01419581 0.01443838]\n",
      "  [0.0716216  0.07388162 0.08327635 ... 0.01361958 0.01419581 0.01443838]\n",
      "  [0.0716216  0.07388162 0.08327635 ... 0.01361958 0.01419581 0.01443838]\n",
      "  ...\n",
      "  [0.00847156 0.00847156 0.00847156 ... 0.18288037 0.16819996 0.16465402]\n",
      "  [0.00847156 0.00847156 0.00847156 ... 0.18288037 0.16819996 0.16465402]\n",
      "  [0.00847156 0.00847156 0.00847156 ... 0.18288037 0.16819996 0.16465402]]], shape=(128, 224, 224), dtype=float32)\n",
      "(128, 224, 224, 3)\n",
      "(128,)\n",
      "tf.Tensor(\n",
      "[[[4.4405978e-02 4.4405978e-02 4.4405978e-02 ... 6.2198050e-02\n",
      "   6.2198050e-02 6.2198050e-02]\n",
      "  [4.4405978e-02 4.4405978e-02 4.4405978e-02 ... 6.2198050e-02\n",
      "   6.2198050e-02 6.2198050e-02]\n",
      "  [4.4405978e-02 4.4405978e-02 4.4405978e-02 ... 6.2198050e-02\n",
      "   6.2198050e-02 6.2198050e-02]\n",
      "  ...\n",
      "  [2.9751128e-02 2.9751128e-02 2.9751128e-02 ... 4.7958001e-02\n",
      "   4.7958001e-02 4.7958001e-02]\n",
      "  [2.9751128e-02 2.9751128e-02 2.9751128e-02 ... 4.7958001e-02\n",
      "   4.7958001e-02 4.7958001e-02]\n",
      "  [2.9751128e-02 2.9751128e-02 2.9751128e-02 ... 4.7958001e-02\n",
      "   4.7958001e-02 4.7958001e-02]]\n",
      "\n",
      " [[0.0000000e+00 0.0000000e+00 0.0000000e+00 ... 0.0000000e+00\n",
      "   0.0000000e+00 0.0000000e+00]\n",
      "  [0.0000000e+00 0.0000000e+00 0.0000000e+00 ... 0.0000000e+00\n",
      "   0.0000000e+00 0.0000000e+00]\n",
      "  [0.0000000e+00 0.0000000e+00 0.0000000e+00 ... 0.0000000e+00\n",
      "   0.0000000e+00 0.0000000e+00]\n",
      "  ...\n",
      "  [1.4901161e-08 1.4901161e-08 1.4901161e-08 ... 0.0000000e+00\n",
      "   0.0000000e+00 0.0000000e+00]\n",
      "  [1.4901161e-08 1.4901161e-08 1.4901161e-08 ... 0.0000000e+00\n",
      "   0.0000000e+00 0.0000000e+00]\n",
      "  [1.4901161e-08 1.4901161e-08 1.4901161e-08 ... 0.0000000e+00\n",
      "   0.0000000e+00 0.0000000e+00]]\n",
      "\n",
      " [[6.6653844e-03 6.6653844e-03 6.6653844e-03 ... 6.6653844e-03\n",
      "   6.6653844e-03 6.6653844e-03]\n",
      "  [6.6653844e-03 6.6653844e-03 6.6653844e-03 ... 6.6653844e-03\n",
      "   6.6653844e-03 6.6653844e-03]\n",
      "  [6.6653844e-03 6.6653844e-03 6.6653844e-03 ... 6.6653844e-03\n",
      "   6.6653844e-03 6.6653844e-03]\n",
      "  ...\n",
      "  [6.6653844e-03 6.6653844e-03 6.6653844e-03 ... 6.6653844e-03\n",
      "   6.6653844e-03 6.6653844e-03]\n",
      "  [6.6653844e-03 6.6653844e-03 6.6653844e-03 ... 6.6653844e-03\n",
      "   6.6653844e-03 6.6653844e-03]\n",
      "  [6.6653844e-03 6.6653844e-03 6.6653844e-03 ... 6.6653844e-03\n",
      "   6.6653844e-03 6.6653844e-03]]\n",
      "\n",
      " ...\n",
      "\n",
      " [[3.2019471e-03 3.2019471e-03 3.2019471e-03 ... 5.5459365e-03\n",
      "   5.5459365e-03 5.5459365e-03]\n",
      "  [3.2019471e-03 3.2019471e-03 3.2019471e-03 ... 5.5459365e-03\n",
      "   5.5459365e-03 5.5459365e-03]\n",
      "  [3.2019471e-03 3.2019471e-03 3.2019471e-03 ... 5.5459365e-03\n",
      "   5.5459365e-03 5.5459365e-03]\n",
      "  ...\n",
      "  [3.6972906e-03 3.6972906e-03 3.6972906e-03 ... 2.0833177e-02\n",
      "   2.0833177e-02 2.0833177e-02]\n",
      "  [3.6972906e-03 3.6972906e-03 3.6972906e-03 ... 2.0833177e-02\n",
      "   2.0833177e-02 2.0833177e-02]\n",
      "  [3.6972906e-03 3.6972906e-03 3.6972906e-03 ... 2.0833177e-02\n",
      "   2.0833177e-02 2.0833177e-02]]\n",
      "\n",
      " [[4.8910552e-03 4.8910552e-03 4.8910552e-03 ... 2.5008006e-02\n",
      "   2.5008006e-02 2.5008006e-02]\n",
      "  [4.8910552e-03 4.8910552e-03 4.8910552e-03 ... 2.5008006e-02\n",
      "   2.5008006e-02 2.5008006e-02]\n",
      "  [4.8910552e-03 4.8910552e-03 4.8910552e-03 ... 2.5008006e-02\n",
      "   2.5008006e-02 2.5008006e-02]\n",
      "  ...\n",
      "  [1.0292821e-02 1.0292821e-02 1.0292821e-02 ... 3.0544631e-02\n",
      "   3.0544631e-02 3.0544631e-02]\n",
      "  [1.0292821e-02 1.0292821e-02 1.0292821e-02 ... 3.0544631e-02\n",
      "   3.0544631e-02 3.0544631e-02]\n",
      "  [1.0292821e-02 1.0292821e-02 1.0292821e-02 ... 3.0544631e-02\n",
      "   3.0544631e-02 3.0544631e-02]]\n",
      "\n",
      " [[1.4673166e-02 1.4673166e-02 1.4673166e-02 ... 2.4032386e-02\n",
      "   2.4032386e-02 2.4032386e-02]\n",
      "  [1.4673166e-02 1.4673166e-02 1.4673166e-02 ... 2.4032386e-02\n",
      "   2.4032386e-02 2.4032386e-02]\n",
      "  [1.4673166e-02 1.4673166e-02 1.4673166e-02 ... 2.4032386e-02\n",
      "   2.4032386e-02 2.4032386e-02]\n",
      "  ...\n",
      "  [3.2019471e-03 3.2019471e-03 3.2019471e-03 ... 2.1319617e-02\n",
      "   2.1319617e-02 2.1319617e-02]\n",
      "  [3.2019471e-03 3.2019471e-03 3.2019471e-03 ... 2.1319617e-02\n",
      "   2.1319617e-02 2.1319617e-02]\n",
      "  [3.2019471e-03 3.2019471e-03 3.2019471e-03 ... 2.1319617e-02\n",
      "   2.1319617e-02 2.1319617e-02]]], shape=(128, 224, 224), dtype=float32)\n",
      "(128, 224, 224, 3)\n",
      "(128,)\n",
      "tf.Tensor(\n",
      "[[[0.0000000e+00 0.0000000e+00 0.0000000e+00 ... 0.0000000e+00\n",
      "   0.0000000e+00 0.0000000e+00]\n",
      "  [0.0000000e+00 0.0000000e+00 0.0000000e+00 ... 0.0000000e+00\n",
      "   0.0000000e+00 0.0000000e+00]\n",
      "  [0.0000000e+00 0.0000000e+00 0.0000000e+00 ... 0.0000000e+00\n",
      "   0.0000000e+00 0.0000000e+00]\n",
      "  ...\n",
      "  [0.0000000e+00 0.0000000e+00 0.0000000e+00 ... 0.0000000e+00\n",
      "   0.0000000e+00 0.0000000e+00]\n",
      "  [0.0000000e+00 0.0000000e+00 0.0000000e+00 ... 0.0000000e+00\n",
      "   0.0000000e+00 0.0000000e+00]\n",
      "  [0.0000000e+00 0.0000000e+00 0.0000000e+00 ... 0.0000000e+00\n",
      "   0.0000000e+00 0.0000000e+00]]\n",
      "\n",
      " [[8.0580572e-03 8.0580572e-03 8.0580572e-03 ... 1.4789161e-02\n",
      "   1.4789161e-02 1.4789161e-02]\n",
      "  [8.0580572e-03 8.0580572e-03 8.0580572e-03 ... 1.4789161e-02\n",
      "   1.4789161e-02 1.4789161e-02]\n",
      "  [8.0580572e-03 8.0580572e-03 8.0580572e-03 ... 1.4789161e-02\n",
      "   1.4789161e-02 1.4789161e-02]\n",
      "  ...\n",
      "  [4.8910552e-03 4.8910552e-03 4.8910552e-03 ... 6.7469217e-02\n",
      "   6.7469217e-02 6.7469217e-02]\n",
      "  [4.8910552e-03 4.8910552e-03 4.8910552e-03 ... 6.7469217e-02\n",
      "   6.7469217e-02 6.7469217e-02]\n",
      "  [4.8910552e-03 4.8910552e-03 4.8910552e-03 ... 6.7469217e-02\n",
      "   6.7469217e-02 6.7469217e-02]]\n",
      "\n",
      " [[1.8626451e-09 1.8626451e-09 1.8626451e-09 ... 0.0000000e+00\n",
      "   0.0000000e+00 0.0000000e+00]\n",
      "  [1.8626451e-09 1.8626451e-09 1.8626451e-09 ... 0.0000000e+00\n",
      "   0.0000000e+00 0.0000000e+00]\n",
      "  [1.8626451e-09 1.8626451e-09 1.8626451e-09 ... 0.0000000e+00\n",
      "   0.0000000e+00 0.0000000e+00]\n",
      "  ...\n",
      "  [3.7252903e-09 3.7252903e-09 3.7252903e-09 ... 0.0000000e+00\n",
      "   0.0000000e+00 0.0000000e+00]\n",
      "  [3.7252903e-09 3.7252903e-09 3.7252903e-09 ... 0.0000000e+00\n",
      "   0.0000000e+00 0.0000000e+00]\n",
      "  [3.7252903e-09 3.7252903e-09 3.7252903e-09 ... 0.0000000e+00\n",
      "   0.0000000e+00 0.0000000e+00]]\n",
      "\n",
      " ...\n",
      "\n",
      " [[8.4715560e-03 8.4715560e-03 8.4715560e-03 ... 2.1319617e-02\n",
      "   2.1319617e-02 2.1319617e-02]\n",
      "  [8.4715560e-03 8.4715560e-03 8.4715560e-03 ... 2.1319617e-02\n",
      "   2.1319617e-02 2.1319617e-02]\n",
      "  [8.4715560e-03 8.4715560e-03 8.4715560e-03 ... 2.1319617e-02\n",
      "   2.1319617e-02 2.1319617e-02]\n",
      "  ...\n",
      "  [1.0292821e-02 1.0292821e-02 1.0292821e-02 ... 2.9346332e-02\n",
      "   2.9346332e-02 2.9346332e-02]\n",
      "  [1.0292821e-02 1.0292821e-02 1.0292821e-02 ... 2.9346332e-02\n",
      "   2.9346332e-02 2.9346332e-02]\n",
      "  [1.0292821e-02 1.0292821e-02 1.0292821e-02 ... 2.9346332e-02\n",
      "   2.9346332e-02 2.9346332e-02]]\n",
      "\n",
      " [[0.0000000e+00 0.0000000e+00 0.0000000e+00 ... 0.0000000e+00\n",
      "   0.0000000e+00 0.0000000e+00]\n",
      "  [0.0000000e+00 0.0000000e+00 0.0000000e+00 ... 0.0000000e+00\n",
      "   0.0000000e+00 0.0000000e+00]\n",
      "  [0.0000000e+00 0.0000000e+00 0.0000000e+00 ... 0.0000000e+00\n",
      "   0.0000000e+00 0.0000000e+00]\n",
      "  ...\n",
      "  [0.0000000e+00 0.0000000e+00 0.0000000e+00 ... 0.0000000e+00\n",
      "   0.0000000e+00 0.0000000e+00]\n",
      "  [0.0000000e+00 0.0000000e+00 0.0000000e+00 ... 0.0000000e+00\n",
      "   0.0000000e+00 0.0000000e+00]\n",
      "  [0.0000000e+00 0.0000000e+00 0.0000000e+00 ... 0.0000000e+00\n",
      "   0.0000000e+00 0.0000000e+00]]\n",
      "\n",
      " [[7.3945522e-03 7.3945522e-03 7.3945522e-03 ... 8.4715560e-03\n",
      "   8.4715560e-03 8.4715560e-03]\n",
      "  [7.3945522e-03 7.3945522e-03 7.3945522e-03 ... 8.4715560e-03\n",
      "   8.4715560e-03 8.4715560e-03]\n",
      "  [7.3945522e-03 7.3945522e-03 7.3945522e-03 ... 8.4715560e-03\n",
      "   8.4715560e-03 8.4715560e-03]\n",
      "  ...\n",
      "  [1.0292821e-02 1.0292821e-02 1.0292821e-02 ... 0.0000000e+00\n",
      "   0.0000000e+00 0.0000000e+00]\n",
      "  [1.0292821e-02 1.0292821e-02 1.0292821e-02 ... 0.0000000e+00\n",
      "   0.0000000e+00 0.0000000e+00]\n",
      "  [1.0292821e-02 1.0292821e-02 1.0292821e-02 ... 0.0000000e+00\n",
      "   0.0000000e+00 0.0000000e+00]]], shape=(128, 224, 224), dtype=float32)\n",
      "(128, 224, 224, 3)\n",
      "(128,)\n",
      "tf.Tensor(\n",
      "[[[0.02424477 0.02424477 0.02424477 ... 0.08165489 0.08165489 0.08165489]\n",
      "  [0.02424477 0.02424477 0.02424477 ... 0.08165489 0.08165489 0.08165489]\n",
      "  [0.02424477 0.02424477 0.02424477 ... 0.08165489 0.08165489 0.08165489]\n",
      "  ...\n",
      "  [0.06260881 0.06260881 0.06260881 ... 0.10645371 0.10645371 0.10645371]\n",
      "  [0.06260881 0.06260881 0.06260881 ... 0.10645371 0.10645371 0.10645371]\n",
      "  [0.06260881 0.06260881 0.06260881 ... 0.10645371 0.10645371 0.10645371]]\n",
      "\n",
      " [[0.00847156 0.00847156 0.00847156 ... 0.01029282 0.01029282 0.01029282]\n",
      "  [0.00847156 0.00847156 0.00847156 ... 0.01029282 0.01029282 0.01029282]\n",
      "  [0.00847156 0.00847156 0.00847156 ... 0.01029282 0.01029282 0.01029282]\n",
      "  ...\n",
      "  [0.00184865 0.00184865 0.00184865 ... 0.01999616 0.01999616 0.01999616]\n",
      "  [0.00184865 0.00184865 0.00184865 ... 0.01999616 0.01999616 0.01999616]\n",
      "  [0.00184865 0.00184865 0.00184865 ... 0.01999616 0.01999616 0.01999616]]\n",
      "\n",
      " [[0.00847156 0.00847156 0.00847156 ... 0.01124487 0.01124487 0.01124487]\n",
      "  [0.00847156 0.00847156 0.00847156 ... 0.01124487 0.01124487 0.01124487]\n",
      "  [0.00847156 0.00847156 0.00847156 ... 0.01124487 0.01124487 0.01124487]\n",
      "  ...\n",
      "  [0.00489106 0.00489106 0.00489106 ... 0.01333077 0.01333077 0.01333077]\n",
      "  [0.00489106 0.00489106 0.00489106 ... 0.01333077 0.01333077 0.01333077]\n",
      "  [0.00489106 0.00489106 0.00489106 ... 0.01333077 0.01333077 0.01333077]]\n",
      "\n",
      " ...\n",
      "\n",
      " [[0.02487097 0.02487097 0.02487097 ... 0.02424475 0.02424475 0.02424475]\n",
      "  [0.02487097 0.02487097 0.02487097 ... 0.02424475 0.02424475 0.02424475]\n",
      "  [0.02487097 0.02487097 0.02487097 ... 0.02424475 0.02424475 0.02424475]\n",
      "  ...\n",
      "  [0.00847156 0.00847156 0.00847156 ... 0.06128476 0.06128476 0.06128476]\n",
      "  [0.00847156 0.00847156 0.00847156 ... 0.06128476 0.06128476 0.06128476]\n",
      "  [0.00847156 0.00847156 0.00847156 ... 0.06128476 0.06128476 0.06128476]]\n",
      "\n",
      " [[0.01029282 0.01029282 0.01029282 ... 0.02666154 0.02666154 0.02666154]\n",
      "  [0.01029282 0.01029282 0.01029282 ... 0.02666154 0.02666154 0.02666154]\n",
      "  [0.01029282 0.01029282 0.01029282 ... 0.02666154 0.02666154 0.02666154]\n",
      "  ...\n",
      "  [0.01029282 0.01029282 0.01029282 ... 0.03882154 0.03882154 0.03882154]\n",
      "  [0.01029282 0.01029282 0.01029282 ... 0.03882154 0.03882154 0.03882154]\n",
      "  [0.01029282 0.01029282 0.01029282 ... 0.03882154 0.03882154 0.03882154]]\n",
      "\n",
      " [[0.06277235 0.06277235 0.06277235 ... 0.05455852 0.05455852 0.05455852]\n",
      "  [0.06277235 0.06277235 0.06277235 ... 0.05455852 0.05455852 0.05455852]\n",
      "  [0.06277235 0.06277235 0.06277235 ... 0.05455852 0.05455852 0.05455852]\n",
      "  ...\n",
      "  [0.00320195 0.00320195 0.00320195 ... 0.04370785 0.04370785 0.04370785]\n",
      "  [0.00320195 0.00320195 0.00320195 ... 0.04370785 0.04370785 0.04370785]\n",
      "  [0.00320195 0.00320195 0.00320195 ... 0.04370785 0.04370785 0.04370785]]], shape=(128, 224, 224), dtype=float32)\n",
      "(128, 224, 224, 3)\n",
      "(128,)\n",
      "tf.Tensor(\n",
      "[[[0.0000000e+00 0.0000000e+00 0.0000000e+00 ... 0.0000000e+00\n",
      "   0.0000000e+00 0.0000000e+00]\n",
      "  [0.0000000e+00 0.0000000e+00 0.0000000e+00 ... 0.0000000e+00\n",
      "   0.0000000e+00 0.0000000e+00]\n",
      "  [0.0000000e+00 0.0000000e+00 0.0000000e+00 ... 0.0000000e+00\n",
      "   0.0000000e+00 0.0000000e+00]\n",
      "  ...\n",
      "  [0.0000000e+00 0.0000000e+00 0.0000000e+00 ... 0.0000000e+00\n",
      "   0.0000000e+00 0.0000000e+00]\n",
      "  [0.0000000e+00 0.0000000e+00 0.0000000e+00 ... 0.0000000e+00\n",
      "   0.0000000e+00 0.0000000e+00]\n",
      "  [0.0000000e+00 0.0000000e+00 0.0000000e+00 ... 0.0000000e+00\n",
      "   0.0000000e+00 0.0000000e+00]]\n",
      "\n",
      " [[0.0000000e+00 0.0000000e+00 0.0000000e+00 ... 0.0000000e+00\n",
      "   0.0000000e+00 0.0000000e+00]\n",
      "  [0.0000000e+00 0.0000000e+00 0.0000000e+00 ... 0.0000000e+00\n",
      "   0.0000000e+00 0.0000000e+00]\n",
      "  [0.0000000e+00 0.0000000e+00 0.0000000e+00 ... 0.0000000e+00\n",
      "   0.0000000e+00 0.0000000e+00]\n",
      "  ...\n",
      "  [0.0000000e+00 0.0000000e+00 0.0000000e+00 ... 0.0000000e+00\n",
      "   0.0000000e+00 0.0000000e+00]\n",
      "  [0.0000000e+00 0.0000000e+00 0.0000000e+00 ... 0.0000000e+00\n",
      "   0.0000000e+00 0.0000000e+00]\n",
      "  [0.0000000e+00 0.0000000e+00 0.0000000e+00 ... 0.0000000e+00\n",
      "   0.0000000e+00 0.0000000e+00]]\n",
      "\n",
      " [[3.5414945e-02 3.5414945e-02 3.5414945e-02 ... 6.6653844e-03\n",
      "   6.6653844e-03 6.6653844e-03]\n",
      "  [3.5414945e-02 3.5414945e-02 3.5414945e-02 ... 6.6653844e-03\n",
      "   6.6653844e-03 6.6653844e-03]\n",
      "  [3.5414945e-02 3.5414945e-02 3.5414945e-02 ... 6.6653844e-03\n",
      "   6.6653844e-03 6.6653844e-03]\n",
      "  ...\n",
      "  [1.2940544e-02 1.2940544e-02 1.2940544e-02 ... 4.8910552e-03\n",
      "   4.8910552e-03 4.8910552e-03]\n",
      "  [1.2940544e-02 1.2940544e-02 1.2940544e-02 ... 4.8910552e-03\n",
      "   4.8910552e-03 4.8910552e-03]\n",
      "  [1.2940544e-02 1.2940544e-02 1.2940544e-02 ... 4.8910552e-03\n",
      "   4.8910552e-03 4.8910552e-03]]\n",
      "\n",
      " ...\n",
      "\n",
      " [[8.4715560e-03 8.4715560e-03 8.4715560e-03 ... 8.4715560e-03\n",
      "   8.4715560e-03 8.4715560e-03]\n",
      "  [8.4715560e-03 8.4715560e-03 8.4715560e-03 ... 8.4715560e-03\n",
      "   8.4715560e-03 8.4715560e-03]\n",
      "  [8.4715560e-03 8.4715560e-03 8.4715560e-03 ... 8.4715560e-03\n",
      "   8.4715560e-03 8.4715560e-03]\n",
      "  ...\n",
      "  [8.4715560e-03 8.4715560e-03 8.4715560e-03 ... 8.4715560e-03\n",
      "   8.4715560e-03 8.4715560e-03]\n",
      "  [8.4715560e-03 8.4715560e-03 8.4715560e-03 ... 8.4715560e-03\n",
      "   8.4715560e-03 8.4715560e-03]\n",
      "  [8.4715560e-03 8.4715560e-03 8.4715560e-03 ... 8.4715560e-03\n",
      "   8.4715560e-03 8.4715560e-03]]\n",
      "\n",
      " [[5.9604645e-08 5.9604645e-08 0.0000000e+00 ... 5.9604645e-08\n",
      "   5.9604645e-08 5.9604645e-08]\n",
      "  [5.9604645e-08 5.9604645e-08 0.0000000e+00 ... 5.9604645e-08\n",
      "   5.9604645e-08 5.9604645e-08]\n",
      "  [5.9604645e-08 5.9604645e-08 0.0000000e+00 ... 5.9604645e-08\n",
      "   5.9604645e-08 5.9604645e-08]\n",
      "  ...\n",
      "  [1.4901161e-08 1.4901161e-08 0.0000000e+00 ... 0.0000000e+00\n",
      "   0.0000000e+00 0.0000000e+00]\n",
      "  [1.4901161e-08 1.4901161e-08 0.0000000e+00 ... 0.0000000e+00\n",
      "   0.0000000e+00 0.0000000e+00]\n",
      "  [1.4901161e-08 1.4901161e-08 0.0000000e+00 ... 0.0000000e+00\n",
      "   0.0000000e+00 0.0000000e+00]]\n",
      "\n",
      " [[6.6653853e-03 6.6653853e-03 6.6653853e-03 ... 8.0580572e-03\n",
      "   8.0580572e-03 8.0580572e-03]\n",
      "  [6.6653853e-03 6.6653853e-03 6.6653853e-03 ... 8.0580572e-03\n",
      "   8.0580572e-03 8.0580572e-03]\n",
      "  [6.6653853e-03 6.6653853e-03 6.6653853e-03 ... 8.0580572e-03\n",
      "   8.0580572e-03 8.0580572e-03]\n",
      "  ...\n",
      "  [8.4715560e-03 8.4715560e-03 8.4715560e-03 ... 5.1231153e-02\n",
      "   5.1231153e-02 5.1231153e-02]\n",
      "  [8.4715560e-03 8.4715560e-03 8.4715560e-03 ... 5.1231153e-02\n",
      "   5.1231153e-02 5.1231153e-02]\n",
      "  [8.4715560e-03 8.4715560e-03 8.4715560e-03 ... 5.1231153e-02\n",
      "   5.1231153e-02 5.1231153e-02]]], shape=(128, 224, 224), dtype=float32)\n",
      "(128, 224, 224, 3)\n",
      "(128,)\n",
      "tf.Tensor(\n",
      "[[[0.06794871 0.06794871 0.06794871 ... 0.15996924 0.15996924 0.15996924]\n",
      "  [0.06794871 0.06794871 0.06794871 ... 0.15996924 0.15996924 0.15996924]\n",
      "  [0.06794871 0.06794871 0.06794871 ... 0.15996924 0.15996924 0.15996924]\n",
      "  ...\n",
      "  [0.08527848 0.08527848 0.08527848 ... 0.10177628 0.10177628 0.10177628]\n",
      "  [0.08527848 0.08527848 0.08527848 ... 0.10177628 0.10177628 0.10177628]\n",
      "  [0.08527848 0.08527848 0.08527848 ... 0.10177628 0.10177628 0.10177628]]\n",
      "\n",
      " [[0.0513644  0.0513644  0.0513644  ... 0.04370785 0.04370785 0.04370785]\n",
      "  [0.0513644  0.0513644  0.0513644  ... 0.04370785 0.04370785 0.04370785]\n",
      "  [0.0513644  0.0513644  0.0513644  ... 0.04370785 0.04370785 0.04370785]\n",
      "  ...\n",
      "  [0.06128476 0.06128476 0.06128476 ... 0.03201948 0.03201948 0.03201948]\n",
      "  [0.06128476 0.06128476 0.06128476 ... 0.03201948 0.03201948 0.03201948]\n",
      "  [0.06128476 0.06128476 0.06128476 ... 0.03201948 0.03201948 0.03201948]]\n",
      "\n",
      " [[0.08794189 0.08794189 0.08794189 ... 0.07746683 0.07746683 0.07746683]\n",
      "  [0.08794189 0.08794189 0.08794189 ... 0.07746683 0.07746683 0.07746683]\n",
      "  [0.08794189 0.08794189 0.08794189 ... 0.07746683 0.07746683 0.07746683]\n",
      "  ...\n",
      "  [0.06794871 0.06794871 0.06794871 ... 0.06414559 0.06414559 0.06414559]\n",
      "  [0.06794871 0.06794871 0.06794871 ... 0.06414559 0.06414559 0.06414559]\n",
      "  [0.06794871 0.06794871 0.06794871 ... 0.06414559 0.06414559 0.06414559]]\n",
      "\n",
      " ...\n",
      "\n",
      " [[0.00847158 0.00847158 0.00847158 ... 0.00847156 0.00847156 0.00847156]\n",
      "  [0.00847158 0.00847158 0.00847158 ... 0.00847156 0.00847156 0.00847156]\n",
      "  [0.00847158 0.00847158 0.00847158 ... 0.00847156 0.00847156 0.00847156]\n",
      "  ...\n",
      "  [0.00847156 0.00847156 0.00847156 ... 0.00805806 0.00805806 0.00805806]\n",
      "  [0.00847156 0.00847156 0.00847156 ... 0.00805806 0.00805806 0.00805806]\n",
      "  [0.00847156 0.00847156 0.00847156 ... 0.00805806 0.00805806 0.00805806]]\n",
      "\n",
      " [[0.0256822  0.02630724 0.02777353 ... 0.02167573 0.01817325 0.01782769]\n",
      "  [0.0256822  0.02630724 0.02777353 ... 0.02167573 0.01817325 0.01782769]\n",
      "  [0.0256822  0.02630724 0.02777353 ... 0.02167573 0.01817325 0.01782769]\n",
      "  ...\n",
      "  [0.03332692 0.03339376 0.03365953 ... 0.01695086 0.01766243 0.01820704]\n",
      "  [0.03332692 0.03339376 0.03365953 ... 0.01695086 0.01766243 0.01820704]\n",
      "  [0.03332692 0.03339376 0.03365953 ... 0.01695086 0.01766243 0.01820704]]\n",
      "\n",
      " [[0.03054463 0.03054463 0.03054463 ... 0.04323617 0.04323617 0.04323617]\n",
      "  [0.03054463 0.03054463 0.03054463 ... 0.04323617 0.04323617 0.04323617]\n",
      "  [0.03054463 0.03054463 0.03054463 ... 0.04323617 0.04323617 0.04323617]\n",
      "  ...\n",
      "  [0.02934633 0.02934633 0.02934633 ... 0.04651097 0.04651097 0.04651097]\n",
      "  [0.02934633 0.02934633 0.02934633 ... 0.04651097 0.04651097 0.04651097]\n",
      "  [0.02934633 0.02934633 0.02934633 ... 0.04651097 0.04651097 0.04651097]]], shape=(128, 224, 224), dtype=float32)\n",
      "(128, 224, 224, 3)\n",
      "(128,)\n",
      "tf.Tensor(\n",
      "[[[0.0000000e+00 0.0000000e+00 0.0000000e+00 ... 0.0000000e+00\n",
      "   0.0000000e+00 0.0000000e+00]\n",
      "  [0.0000000e+00 0.0000000e+00 0.0000000e+00 ... 0.0000000e+00\n",
      "   0.0000000e+00 0.0000000e+00]\n",
      "  [0.0000000e+00 0.0000000e+00 0.0000000e+00 ... 0.0000000e+00\n",
      "   0.0000000e+00 0.0000000e+00]\n",
      "  ...\n",
      "  [1.4901161e-08 1.4901161e-08 1.4901161e-08 ... 0.0000000e+00\n",
      "   0.0000000e+00 0.0000000e+00]\n",
      "  [1.4901161e-08 1.4901161e-08 1.4901161e-08 ... 0.0000000e+00\n",
      "   0.0000000e+00 0.0000000e+00]\n",
      "  [1.4901161e-08 1.4901161e-08 1.4901161e-08 ... 0.0000000e+00\n",
      "   0.0000000e+00 0.0000000e+00]]\n",
      "\n",
      " [[1.0271216e-01 1.0271216e-01 1.0271216e-01 ... 3.2019471e-03\n",
      "   3.2019471e-03 3.2019471e-03]\n",
      "  [1.0271216e-01 1.0271216e-01 1.0271216e-01 ... 3.2019471e-03\n",
      "   3.2019471e-03 3.2019471e-03]\n",
      "  [1.0271216e-01 1.0271216e-01 1.0271216e-01 ... 3.2019471e-03\n",
      "   3.2019471e-03 3.2019471e-03]\n",
      "  ...\n",
      "  [1.7634951e-02 1.7634951e-02 1.7634951e-02 ... 6.6422738e-02\n",
      "   6.6422738e-02 6.6422738e-02]\n",
      "  [1.7634951e-02 1.7634951e-02 1.7634951e-02 ... 6.6422738e-02\n",
      "   6.6422738e-02 6.6422738e-02]\n",
      "  [1.7634951e-02 1.7634951e-02 1.7634951e-02 ... 6.6422738e-02\n",
      "   6.6422738e-02 6.6422738e-02]]\n",
      "\n",
      " [[4.8910552e-03 4.8910552e-03 4.8910552e-03 ... 8.4715560e-03\n",
      "   8.4715560e-03 8.4715560e-03]\n",
      "  [4.8910552e-03 4.8910552e-03 4.8910552e-03 ... 8.4715560e-03\n",
      "   8.4715560e-03 8.4715560e-03]\n",
      "  [4.8910552e-03 4.8910552e-03 4.8910552e-03 ... 8.4715560e-03\n",
      "   8.4715560e-03 8.4715560e-03]\n",
      "  ...\n",
      "  [8.4715560e-03 8.4715560e-03 8.4715560e-03 ... 8.4715560e-03\n",
      "   8.4715560e-03 8.4715560e-03]\n",
      "  [8.4715560e-03 8.4715560e-03 8.4715560e-03 ... 8.4715560e-03\n",
      "   8.4715560e-03 8.4715560e-03]\n",
      "  [8.4715560e-03 8.4715560e-03 8.4715560e-03 ... 8.4715560e-03\n",
      "   8.4715560e-03 8.4715560e-03]]\n",
      "\n",
      " ...\n",
      "\n",
      " [[8.4715560e-03 8.4715560e-03 8.4715560e-03 ... 8.4715560e-03\n",
      "   8.4715560e-03 8.4715560e-03]\n",
      "  [8.4715560e-03 8.4715560e-03 8.4715560e-03 ... 8.4715560e-03\n",
      "   8.4715560e-03 8.4715560e-03]\n",
      "  [8.4715560e-03 8.4715560e-03 8.4715560e-03 ... 8.4715560e-03\n",
      "   8.4715560e-03 8.4715560e-03]\n",
      "  ...\n",
      "  [8.4715569e-03 8.4715569e-03 8.4715569e-03 ... 8.4715560e-03\n",
      "   8.4715560e-03 8.4715560e-03]\n",
      "  [8.4715569e-03 8.4715569e-03 8.4715569e-03 ... 8.4715560e-03\n",
      "   8.4715560e-03 8.4715560e-03]\n",
      "  [8.4715569e-03 8.4715569e-03 8.4715569e-03 ... 8.4715560e-03\n",
      "   8.4715560e-03 8.4715560e-03]]\n",
      "\n",
      " [[0.0000000e+00 0.0000000e+00 5.9604645e-08 ... 5.9604645e-08\n",
      "   5.9604645e-08 5.9604645e-08]\n",
      "  [0.0000000e+00 0.0000000e+00 5.9604645e-08 ... 5.9604645e-08\n",
      "   5.9604645e-08 5.9604645e-08]\n",
      "  [0.0000000e+00 0.0000000e+00 5.9604645e-08 ... 5.9604645e-08\n",
      "   5.9604645e-08 5.9604645e-08]\n",
      "  ...\n",
      "  [1.4901161e-08 0.0000000e+00 0.0000000e+00 ... 0.0000000e+00\n",
      "   0.0000000e+00 0.0000000e+00]\n",
      "  [1.4901161e-08 0.0000000e+00 0.0000000e+00 ... 0.0000000e+00\n",
      "   0.0000000e+00 0.0000000e+00]\n",
      "  [1.4901161e-08 0.0000000e+00 0.0000000e+00 ... 0.0000000e+00\n",
      "   0.0000000e+00 0.0000000e+00]]\n",
      "\n",
      " [[8.9673594e-02 8.9673594e-02 8.9673594e-02 ... 9.6076213e-02\n",
      "   9.6076213e-02 9.6076213e-02]\n",
      "  [8.9673594e-02 8.9673594e-02 8.9673594e-02 ... 9.6076213e-02\n",
      "   9.6076213e-02 9.6076213e-02]\n",
      "  [8.9673594e-02 8.9673594e-02 8.9673594e-02 ... 9.6076213e-02\n",
      "   9.6076213e-02 9.6076213e-02]\n",
      "  ...\n",
      "  [4.4367507e-02 4.4367507e-02 4.4367507e-02 ... 8.0240563e-02\n",
      "   8.0240563e-02 8.0240563e-02]\n",
      "  [4.4367507e-02 4.4367507e-02 4.4367507e-02 ... 8.0240563e-02\n",
      "   8.0240563e-02 8.0240563e-02]\n",
      "  [4.4367507e-02 4.4367507e-02 4.4367507e-02 ... 8.0240563e-02\n",
      "   8.0240563e-02 8.0240563e-02]]], shape=(128, 224, 224), dtype=float32)\n",
      "(128, 224, 224, 3)\n",
      "(128,)\n",
      "tf.Tensor(\n",
      "[[[5.96046448e-08 5.96046448e-08 5.96046448e-08 ... 5.96046448e-08\n",
      "   5.96046448e-08 5.96046448e-08]\n",
      "  [5.96046448e-08 5.96046448e-08 5.96046448e-08 ... 5.96046448e-08\n",
      "   5.96046448e-08 5.96046448e-08]\n",
      "  [5.96046448e-08 5.96046448e-08 5.96046448e-08 ... 5.96046448e-08\n",
      "   5.96046448e-08 5.96046448e-08]\n",
      "  ...\n",
      "  [0.00000000e+00 0.00000000e+00 0.00000000e+00 ... 2.98023224e-08\n",
      "   2.98023224e-08 2.98023224e-08]\n",
      "  [0.00000000e+00 0.00000000e+00 0.00000000e+00 ... 2.98023224e-08\n",
      "   2.98023224e-08 2.98023224e-08]\n",
      "  [0.00000000e+00 0.00000000e+00 0.00000000e+00 ... 2.98023224e-08\n",
      "   2.98023224e-08 2.98023224e-08]]\n",
      "\n",
      " [[1.46731660e-02 1.46731660e-02 1.46731660e-02 ... 8.47155601e-03\n",
      "   8.47155601e-03 8.47155601e-03]\n",
      "  [1.46731660e-02 1.46731660e-02 1.46731660e-02 ... 8.47155601e-03\n",
      "   8.47155601e-03 8.47155601e-03]\n",
      "  [1.46731660e-02 1.46731660e-02 1.46731660e-02 ... 8.47155601e-03\n",
      "   8.47155601e-03 8.47155601e-03]\n",
      "  ...\n",
      "  [3.69729032e-03 3.69729032e-03 3.69729032e-03 ... 1.02378905e-01\n",
      "   1.02378905e-01 1.02378905e-01]\n",
      "  [3.69729032e-03 3.69729032e-03 3.69729032e-03 ... 1.02378905e-01\n",
      "   1.02378905e-01 1.02378905e-01]\n",
      "  [3.69729032e-03 3.69729032e-03 3.69729032e-03 ... 1.02378905e-01\n",
      "   1.02378905e-01 1.02378905e-01]]\n",
      "\n",
      " [[1.09007388e-01 1.09007388e-01 1.09007388e-01 ... 1.44383796e-02\n",
      "   1.44383796e-02 1.44383796e-02]\n",
      "  [1.09007388e-01 1.09007388e-01 1.09007388e-01 ... 1.44383796e-02\n",
      "   1.44383796e-02 1.44383796e-02]\n",
      "  [1.09007388e-01 1.09007388e-01 1.09007388e-01 ... 1.44383796e-02\n",
      "   1.44383796e-02 1.44383796e-02]\n",
      "  ...\n",
      "  [3.69729032e-03 3.69729032e-03 3.69729032e-03 ... 1.29405148e-02\n",
      "   1.29405148e-02 1.29405148e-02]\n",
      "  [3.69729032e-03 3.69729032e-03 3.69729032e-03 ... 1.29405148e-02\n",
      "   1.29405148e-02 1.29405148e-02]\n",
      "  [3.69729032e-03 3.69729032e-03 3.69729032e-03 ... 1.29405148e-02\n",
      "   1.29405148e-02 1.29405148e-02]]\n",
      "\n",
      " ...\n",
      "\n",
      " [[0.00000000e+00 0.00000000e+00 0.00000000e+00 ... 6.66541141e-03\n",
      "   6.66541141e-03 6.66541141e-03]\n",
      "  [0.00000000e+00 0.00000000e+00 0.00000000e+00 ... 6.66541141e-03\n",
      "   6.66541141e-03 6.66541141e-03]\n",
      "  [0.00000000e+00 0.00000000e+00 0.00000000e+00 ... 6.66541141e-03\n",
      "   6.66541141e-03 6.66541141e-03]\n",
      "  ...\n",
      "  [1.39569649e-02 1.39569649e-02 1.39569649e-02 ... 1.01068668e-01\n",
      "   1.01068668e-01 1.01068668e-01]\n",
      "  [1.39569649e-02 1.39569649e-02 1.39569649e-02 ... 1.01068668e-01\n",
      "   1.01068668e-01 1.01068668e-01]\n",
      "  [1.39569649e-02 1.39569649e-02 1.39569649e-02 ... 1.01068668e-01\n",
      "   1.01068668e-01 1.01068668e-01]]\n",
      "\n",
      " [[0.00000000e+00 0.00000000e+00 0.00000000e+00 ... 5.96046448e-08\n",
      "   5.96046448e-08 5.96046448e-08]\n",
      "  [0.00000000e+00 0.00000000e+00 0.00000000e+00 ... 5.96046448e-08\n",
      "   5.96046448e-08 5.96046448e-08]\n",
      "  [0.00000000e+00 0.00000000e+00 0.00000000e+00 ... 5.96046448e-08\n",
      "   5.96046448e-08 5.96046448e-08]\n",
      "  ...\n",
      "  [1.49011612e-08 1.49011612e-08 1.49011612e-08 ... 0.00000000e+00\n",
      "   0.00000000e+00 0.00000000e+00]\n",
      "  [1.49011612e-08 1.49011612e-08 1.49011612e-08 ... 0.00000000e+00\n",
      "   0.00000000e+00 0.00000000e+00]\n",
      "  [1.49011612e-08 1.49011612e-08 1.49011612e-08 ... 0.00000000e+00\n",
      "   0.00000000e+00 0.00000000e+00]]\n",
      "\n",
      " [[1.02928206e-02 1.02928206e-02 1.02928206e-02 ... 2.73574479e-02\n",
      "   2.73574479e-02 2.73574479e-02]\n",
      "  [1.02928206e-02 1.02928206e-02 1.02928206e-02 ... 2.73574479e-02\n",
      "   2.73574479e-02 2.73574479e-02]\n",
      "  [1.02928206e-02 1.02928206e-02 1.02928206e-02 ... 2.73574479e-02\n",
      "   2.73574479e-02 2.73574479e-02]\n",
      "  ...\n",
      "  [8.47158302e-03 8.47158302e-03 8.47158302e-03 ... 6.40656203e-02\n",
      "   6.40656203e-02 6.40656203e-02]\n",
      "  [8.47158302e-03 8.47158302e-03 8.47158302e-03 ... 6.40656203e-02\n",
      "   6.40656203e-02 6.40656203e-02]\n",
      "  [8.47158302e-03 8.47158302e-03 8.47158302e-03 ... 6.40656203e-02\n",
      "   6.40656203e-02 6.40656203e-02]]], shape=(128, 224, 224), dtype=float32)\n",
      "(128, 224, 224, 3)\n",
      "(128,)\n",
      "tf.Tensor(\n",
      "[[[0.         0.         0.         ... 0.00847156 0.00847156 0.00847156]\n",
      "  [0.         0.         0.         ... 0.00847156 0.00847156 0.00847156]\n",
      "  [0.         0.         0.         ... 0.00847156 0.00847156 0.00847156]\n",
      "  ...\n",
      "  [0.00847156 0.00847156 0.00847156 ... 0.00847156 0.00847156 0.00847156]\n",
      "  [0.00847156 0.00847156 0.00847156 ... 0.00847156 0.00847156 0.00847156]\n",
      "  [0.00847156 0.00847156 0.00847156 ... 0.00847156 0.00847156 0.00847156]]\n",
      "\n",
      " [[0.01154479 0.01154479 0.01154479 ... 0.01579483 0.01579483 0.01579483]\n",
      "  [0.01154479 0.01154479 0.01154479 ... 0.01579483 0.01579483 0.01579483]\n",
      "  [0.01154479 0.01154479 0.01154479 ... 0.01579483 0.01579483 0.01579483]\n",
      "  ...\n",
      "  [0.01694311 0.01694311 0.01694311 ... 0.01694311 0.01694311 0.01694311]\n",
      "  [0.01694311 0.01694311 0.01694311 ... 0.01694311 0.01694311 0.01694311]\n",
      "  [0.01694311 0.01694311 0.01694311 ... 0.01694311 0.01694311 0.01694311]]\n",
      "\n",
      " [[0.         0.         0.         ... 0.         0.         0.        ]\n",
      "  [0.         0.         0.         ... 0.         0.         0.        ]\n",
      "  [0.         0.         0.         ... 0.         0.         0.        ]\n",
      "  ...\n",
      "  [0.         0.         0.         ... 0.         0.         0.        ]\n",
      "  [0.         0.         0.         ... 0.         0.         0.        ]\n",
      "  [0.         0.         0.         ... 0.         0.         0.        ]]\n",
      "\n",
      " ...\n",
      "\n",
      " [[0.         0.         0.         ... 0.         0.         0.        ]\n",
      "  [0.         0.         0.         ... 0.         0.         0.        ]\n",
      "  [0.         0.         0.         ... 0.         0.         0.        ]\n",
      "  ...\n",
      "  [0.         0.         0.         ... 0.         0.         0.        ]\n",
      "  [0.         0.         0.         ... 0.         0.         0.        ]\n",
      "  [0.         0.         0.         ... 0.         0.         0.        ]]\n",
      "\n",
      " [[0.00489106 0.00489106 0.00489106 ... 0.00847156 0.00847156 0.00847156]\n",
      "  [0.00489106 0.00489106 0.00489106 ... 0.00847156 0.00847156 0.00847156]\n",
      "  [0.00489106 0.00489106 0.00489106 ... 0.00847156 0.00847156 0.00847156]\n",
      "  ...\n",
      "  [0.01395696 0.01395696 0.01395696 ... 0.11716679 0.11716679 0.11716679]\n",
      "  [0.01395696 0.01395696 0.01395696 ... 0.11716679 0.11716679 0.11716679]\n",
      "  [0.01395696 0.01395696 0.01395696 ... 0.11716679 0.11716679 0.11716679]]\n",
      "\n",
      " [[0.         0.         0.         ... 0.         0.         0.        ]\n",
      "  [0.         0.         0.         ... 0.         0.         0.        ]\n",
      "  [0.         0.         0.         ... 0.         0.         0.        ]\n",
      "  ...\n",
      "  [0.00805806 0.00805806 0.00805806 ... 0.01124487 0.01124487 0.01124487]\n",
      "  [0.00805806 0.00805806 0.00805806 ... 0.01124487 0.01124487 0.01124487]\n",
      "  [0.00805806 0.00805806 0.00805806 ... 0.01124487 0.01124487 0.01124487]]], shape=(128, 224, 224), dtype=float32)\n",
      "(128, 224, 224, 3)\n",
      "(128,)\n",
      "tf.Tensor(\n",
      "[[[0.0000000e+00 0.0000000e+00 0.0000000e+00 ... 0.0000000e+00\n",
      "   0.0000000e+00 0.0000000e+00]\n",
      "  [0.0000000e+00 0.0000000e+00 0.0000000e+00 ... 0.0000000e+00\n",
      "   0.0000000e+00 0.0000000e+00]\n",
      "  [0.0000000e+00 0.0000000e+00 0.0000000e+00 ... 0.0000000e+00\n",
      "   0.0000000e+00 0.0000000e+00]\n",
      "  ...\n",
      "  [0.0000000e+00 0.0000000e+00 0.0000000e+00 ... 0.0000000e+00\n",
      "   0.0000000e+00 0.0000000e+00]\n",
      "  [0.0000000e+00 0.0000000e+00 0.0000000e+00 ... 0.0000000e+00\n",
      "   0.0000000e+00 0.0000000e+00]\n",
      "  [0.0000000e+00 0.0000000e+00 0.0000000e+00 ... 0.0000000e+00\n",
      "   0.0000000e+00 0.0000000e+00]]\n",
      "\n",
      " [[2.0833172e-02 2.0833172e-02 2.0833172e-02 ... 8.4715560e-03\n",
      "   8.4715560e-03 8.4715560e-03]\n",
      "  [2.0833172e-02 2.0833172e-02 2.0833172e-02 ... 8.4715560e-03\n",
      "   8.4715560e-03 8.4715560e-03]\n",
      "  [2.0833172e-02 2.0833172e-02 2.0833172e-02 ... 8.4715560e-03\n",
      "   8.4715560e-03 8.4715560e-03]\n",
      "  ...\n",
      "  [1.9211683e-02 1.9211683e-02 1.9211683e-02 ... 6.4065620e-02\n",
      "   6.4065620e-02 6.4065620e-02]\n",
      "  [1.9211683e-02 1.9211683e-02 1.9211683e-02 ... 6.4065620e-02\n",
      "   6.4065620e-02 6.4065620e-02]\n",
      "  [1.9211683e-02 1.9211683e-02 1.9211683e-02 ... 6.4065620e-02\n",
      "   6.4065620e-02 6.4065620e-02]]\n",
      "\n",
      " [[8.4715700e-03 8.4715700e-03 8.4715700e-03 ... 8.4715560e-03\n",
      "   8.4715560e-03 8.4715560e-03]\n",
      "  [8.4715700e-03 8.4715700e-03 8.4715700e-03 ... 8.4715560e-03\n",
      "   8.4715560e-03 8.4715560e-03]\n",
      "  [8.4715700e-03 8.4715700e-03 8.4715700e-03 ... 8.4715560e-03\n",
      "   8.4715560e-03 8.4715560e-03]\n",
      "  ...\n",
      "  [8.4715560e-03 8.4715560e-03 8.4715560e-03 ... 8.4715560e-03\n",
      "   8.4715560e-03 8.4715560e-03]\n",
      "  [8.4715560e-03 8.4715560e-03 8.4715560e-03 ... 8.4715560e-03\n",
      "   8.4715560e-03 8.4715560e-03]\n",
      "  [8.4715560e-03 8.4715560e-03 8.4715560e-03 ... 8.4715560e-03\n",
      "   8.4715560e-03 8.4715560e-03]]\n",
      "\n",
      " ...\n",
      "\n",
      " [[0.0000000e+00 0.0000000e+00 0.0000000e+00 ... 0.0000000e+00\n",
      "   0.0000000e+00 0.0000000e+00]\n",
      "  [0.0000000e+00 0.0000000e+00 0.0000000e+00 ... 0.0000000e+00\n",
      "   0.0000000e+00 0.0000000e+00]\n",
      "  [0.0000000e+00 0.0000000e+00 0.0000000e+00 ... 0.0000000e+00\n",
      "   0.0000000e+00 0.0000000e+00]\n",
      "  ...\n",
      "  [5.9604645e-08 0.0000000e+00 0.0000000e+00 ... 0.0000000e+00\n",
      "   0.0000000e+00 1.4901161e-08]\n",
      "  [5.9604645e-08 0.0000000e+00 0.0000000e+00 ... 0.0000000e+00\n",
      "   0.0000000e+00 1.4901161e-08]\n",
      "  [5.9604645e-08 0.0000000e+00 0.0000000e+00 ... 0.0000000e+00\n",
      "   0.0000000e+00 1.4901161e-08]]\n",
      "\n",
      " [[0.0000000e+00 0.0000000e+00 0.0000000e+00 ... 0.0000000e+00\n",
      "   0.0000000e+00 0.0000000e+00]\n",
      "  [0.0000000e+00 0.0000000e+00 0.0000000e+00 ... 0.0000000e+00\n",
      "   0.0000000e+00 0.0000000e+00]\n",
      "  [0.0000000e+00 0.0000000e+00 0.0000000e+00 ... 0.0000000e+00\n",
      "   0.0000000e+00 0.0000000e+00]\n",
      "  ...\n",
      "  [0.0000000e+00 0.0000000e+00 0.0000000e+00 ... 0.0000000e+00\n",
      "   0.0000000e+00 0.0000000e+00]\n",
      "  [0.0000000e+00 0.0000000e+00 0.0000000e+00 ... 0.0000000e+00\n",
      "   0.0000000e+00 0.0000000e+00]\n",
      "  [0.0000000e+00 0.0000000e+00 0.0000000e+00 ... 0.0000000e+00\n",
      "   0.0000000e+00 0.0000000e+00]]\n",
      "\n",
      " [[5.9300900e-02 5.9300900e-02 5.9300900e-02 ... 4.3707848e-02\n",
      "   4.3707848e-02 4.3707848e-02]\n",
      "  [5.9300900e-02 5.9300900e-02 5.9300900e-02 ... 4.3707848e-02\n",
      "   4.3707848e-02 4.3707848e-02]\n",
      "  [5.9300900e-02 5.9300900e-02 5.9300900e-02 ... 4.3707848e-02\n",
      "   4.3707848e-02 4.3707848e-02]\n",
      "  ...\n",
      "  [3.6084112e-02 3.6084112e-02 3.6084112e-02 ... 5.3033911e-02\n",
      "   5.3033911e-02 5.3033911e-02]\n",
      "  [3.6084112e-02 3.6084112e-02 3.6084112e-02 ... 5.3033911e-02\n",
      "   5.3033911e-02 5.3033911e-02]\n",
      "  [3.6084112e-02 3.6084112e-02 3.6084112e-02 ... 5.3033911e-02\n",
      "   5.3033911e-02 5.3033911e-02]]], shape=(128, 224, 224), dtype=float32)\n",
      "(128, 224, 224, 3)\n",
      "(128,)\n",
      "tf.Tensor(\n",
      "[[[2.9802322e-08 0.0000000e+00 0.0000000e+00 ... 0.0000000e+00\n",
      "   0.0000000e+00 0.0000000e+00]\n",
      "  [2.9802322e-08 0.0000000e+00 0.0000000e+00 ... 0.0000000e+00\n",
      "   0.0000000e+00 0.0000000e+00]\n",
      "  [0.0000000e+00 0.0000000e+00 0.0000000e+00 ... 0.0000000e+00\n",
      "   0.0000000e+00 0.0000000e+00]\n",
      "  ...\n",
      "  [0.0000000e+00 0.0000000e+00 0.0000000e+00 ... 0.0000000e+00\n",
      "   0.0000000e+00 0.0000000e+00]\n",
      "  [0.0000000e+00 0.0000000e+00 0.0000000e+00 ... 0.0000000e+00\n",
      "   0.0000000e+00 0.0000000e+00]\n",
      "  [0.0000000e+00 0.0000000e+00 0.0000000e+00 ... 0.0000000e+00\n",
      "   0.0000000e+00 0.0000000e+00]]\n",
      "\n",
      " [[1.7634951e-02 1.7634951e-02 1.7634951e-02 ... 8.3332688e-02\n",
      "   8.3332688e-02 8.3332688e-02]\n",
      "  [1.7634951e-02 1.7634951e-02 1.7634951e-02 ... 8.3332688e-02\n",
      "   8.3332688e-02 8.3332688e-02]\n",
      "  [1.7634951e-02 1.7634951e-02 1.7634951e-02 ... 8.3332688e-02\n",
      "   8.3332688e-02 8.3332688e-02]\n",
      "  ...\n",
      "  [1.6116114e-02 1.6116114e-02 1.6116114e-02 ... 3.9346185e-02\n",
      "   3.9346185e-02 3.9346185e-02]\n",
      "  [1.6116114e-02 1.6116114e-02 1.6116114e-02 ... 3.9346185e-02\n",
      "   3.9346185e-02 3.9346185e-02]\n",
      "  [1.6116114e-02 1.6116114e-02 1.6116114e-02 ... 3.9346185e-02\n",
      "   3.9346185e-02 3.9346185e-02]]\n",
      "\n",
      " [[0.0000000e+00 0.0000000e+00 0.0000000e+00 ... 0.0000000e+00\n",
      "   0.0000000e+00 0.0000000e+00]\n",
      "  [0.0000000e+00 0.0000000e+00 0.0000000e+00 ... 0.0000000e+00\n",
      "   0.0000000e+00 0.0000000e+00]\n",
      "  [0.0000000e+00 0.0000000e+00 0.0000000e+00 ... 0.0000000e+00\n",
      "   0.0000000e+00 0.0000000e+00]\n",
      "  ...\n",
      "  [8.4715560e-03 8.4715560e-03 8.4715560e-03 ... 8.4715560e-03\n",
      "   8.4715560e-03 8.4715560e-03]\n",
      "  [8.4715560e-03 8.4715560e-03 8.4715560e-03 ... 8.4715560e-03\n",
      "   8.4715560e-03 8.4715560e-03]\n",
      "  [8.4715560e-03 8.4715560e-03 8.4715560e-03 ... 8.4715560e-03\n",
      "   8.4715560e-03 8.4715560e-03]]\n",
      "\n",
      " ...\n",
      "\n",
      " [[0.0000000e+00 0.0000000e+00 0.0000000e+00 ... 0.0000000e+00\n",
      "   0.0000000e+00 0.0000000e+00]\n",
      "  [0.0000000e+00 0.0000000e+00 0.0000000e+00 ... 0.0000000e+00\n",
      "   0.0000000e+00 0.0000000e+00]\n",
      "  [0.0000000e+00 0.0000000e+00 0.0000000e+00 ... 0.0000000e+00\n",
      "   0.0000000e+00 0.0000000e+00]\n",
      "  ...\n",
      "  [0.0000000e+00 0.0000000e+00 0.0000000e+00 ... 0.0000000e+00\n",
      "   0.0000000e+00 0.0000000e+00]\n",
      "  [0.0000000e+00 0.0000000e+00 0.0000000e+00 ... 0.0000000e+00\n",
      "   0.0000000e+00 0.0000000e+00]\n",
      "  [0.0000000e+00 0.0000000e+00 0.0000000e+00 ... 0.0000000e+00\n",
      "   0.0000000e+00 0.0000000e+00]]\n",
      "\n",
      " [[3.5414945e-02 3.5414945e-02 3.5414945e-02 ... 8.4715569e-03\n",
      "   8.4715569e-03 8.4715569e-03]\n",
      "  [3.5414945e-02 3.5414945e-02 3.5414945e-02 ... 8.4715569e-03\n",
      "   8.4715569e-03 8.4715569e-03]\n",
      "  [3.5414945e-02 3.5414945e-02 3.5414945e-02 ... 8.4715569e-03\n",
      "   8.4715569e-03 8.4715569e-03]\n",
      "  ...\n",
      "  [1.9996168e-02 1.9996168e-02 1.9996168e-02 ... 3.5269912e-02\n",
      "   3.5269912e-02 3.5269912e-02]\n",
      "  [1.9996168e-02 1.9996168e-02 1.9996168e-02 ... 3.5269912e-02\n",
      "   3.5269912e-02 3.5269912e-02]\n",
      "  [1.9996168e-02 1.9996168e-02 1.9996168e-02 ... 3.5269912e-02\n",
      "   3.5269912e-02 3.5269912e-02]]\n",
      "\n",
      " [[5.3033888e-02 5.3033888e-02 5.3033888e-02 ... 7.9362661e-02\n",
      "   7.9362661e-02 7.9362661e-02]\n",
      "  [5.3033888e-02 5.3033888e-02 5.3033888e-02 ... 7.9362661e-02\n",
      "   7.9362661e-02 7.9362661e-02]\n",
      "  [5.3033888e-02 5.3033888e-02 5.3033888e-02 ... 7.9362661e-02\n",
      "   7.9362661e-02 7.9362661e-02]\n",
      "  ...\n",
      "  [8.2280278e-02 8.2280278e-02 8.2280278e-02 ... 5.9817310e-02\n",
      "   5.9817310e-02 5.9817310e-02]\n",
      "  [8.2280278e-02 8.2280278e-02 8.2280278e-02 ... 5.9817310e-02\n",
      "   5.9817310e-02 5.9817310e-02]\n",
      "  [8.2280278e-02 8.2280278e-02 8.2280278e-02 ... 5.9817310e-02\n",
      "   5.9817310e-02 5.9817310e-02]]], shape=(128, 224, 224), dtype=float32)\n",
      "(128, 224, 224, 3)\n",
      "(128,)\n",
      "tf.Tensor(\n",
      "[[[0.05032255 0.05032255 0.05032255 ... 0.19762354 0.19762354 0.19762354]\n",
      "  [0.05032255 0.05032255 0.05032255 ... 0.19762354 0.19762354 0.19762354]\n",
      "  [0.05032255 0.05032255 0.05032255 ... 0.19762354 0.19762354 0.19762354]\n",
      "  ...\n",
      "  [0.01999616 0.01999616 0.01999616 ... 0.01999615 0.01999615 0.01999615]\n",
      "  [0.01999616 0.01999616 0.01999616 ... 0.01999615 0.01999615 0.01999615]\n",
      "  [0.01999616 0.01999616 0.01999616 ... 0.01999615 0.01999615 0.01999615]]\n",
      "\n",
      " [[0.         0.         0.         ... 0.         0.         0.        ]\n",
      "  [0.         0.         0.         ... 0.         0.         0.        ]\n",
      "  [0.         0.         0.         ... 0.         0.         0.        ]\n",
      "  ...\n",
      "  [0.         0.         0.         ... 0.         0.         0.        ]\n",
      "  [0.         0.         0.         ... 0.         0.         0.        ]\n",
      "  [0.         0.         0.         ... 0.         0.         0.        ]]\n",
      "\n",
      " [[0.00847156 0.00847156 0.00847156 ... 0.01029282 0.01029282 0.01029282]\n",
      "  [0.00847156 0.00847156 0.00847156 ... 0.01029282 0.01029282 0.01029282]\n",
      "  [0.00847156 0.00847156 0.00847156 ... 0.01029282 0.01029282 0.01029282]\n",
      "  ...\n",
      "  [0.00847156 0.00847156 0.00847156 ... 0.00320195 0.00320195 0.00320195]\n",
      "  [0.00847156 0.00847156 0.00847156 ... 0.00320195 0.00320195 0.00320195]\n",
      "  [0.00847156 0.00847156 0.00847156 ... 0.00320195 0.00320195 0.00320195]]\n",
      "\n",
      " ...\n",
      "\n",
      " [[0.00847158 0.00847158 0.00847158 ... 0.00369732 0.00369732 0.00369732]\n",
      "  [0.00847158 0.00847158 0.00847158 ... 0.00369732 0.00369732 0.00369732]\n",
      "  [0.00847158 0.00847158 0.00847158 ... 0.00369732 0.00369732 0.00369732]\n",
      "  ...\n",
      "  [0.00847156 0.00847156 0.00847156 ... 0.00369732 0.00369732 0.00369732]\n",
      "  [0.00847156 0.00847156 0.00847156 ... 0.00369732 0.00369732 0.00369732]\n",
      "  [0.00847156 0.00847156 0.00847156 ... 0.00369732 0.00369732 0.00369732]]\n",
      "\n",
      " [[0.         0.         0.         ... 0.         0.         0.        ]\n",
      "  [0.         0.         0.         ... 0.         0.         0.        ]\n",
      "  [0.         0.         0.         ... 0.         0.         0.        ]\n",
      "  ...\n",
      "  [0.         0.         0.         ... 0.         0.         0.        ]\n",
      "  [0.         0.         0.         ... 0.         0.         0.        ]\n",
      "  [0.         0.         0.         ... 0.         0.         0.        ]]\n",
      "\n",
      " [[0.03692666 0.03653199 0.03506801 ... 0.13265292 0.11355673 0.10844161]\n",
      "  [0.03692666 0.03653199 0.03506801 ... 0.13265292 0.11355673 0.10844161]\n",
      "  [0.03692666 0.03653199 0.03506801 ... 0.13265292 0.11355673 0.10844161]\n",
      "  ...\n",
      "  [0.12033248 0.12207742 0.12857127 ... 0.01654164 0.01369481 0.01294051]\n",
      "  [0.12033248 0.12207742 0.12857127 ... 0.01654164 0.01369481 0.01294051]\n",
      "  [0.12033248 0.12207742 0.12857127 ... 0.01654164 0.01369481 0.01294051]]], shape=(128, 224, 224), dtype=float32)\n",
      "(128, 224, 224, 3)\n",
      "(128,)\n",
      "tf.Tensor(\n",
      "[[[0.01029282 0.01029283 0.01029282 ... 0.03491678 0.03172305 0.03054463]\n",
      "  [0.01029282 0.01029283 0.01029282 ... 0.03491678 0.03172305 0.03054463]\n",
      "  [0.01029282 0.01029283 0.01029282 ... 0.03491678 0.03172305 0.03054463]\n",
      "  ...\n",
      "  [0.12078602 0.12147091 0.12328173 ... 0.01395696 0.01395696 0.01395696]\n",
      "  [0.12078602 0.12147091 0.12328173 ... 0.01395696 0.01395696 0.01395696]\n",
      "  [0.12078602 0.12147091 0.12328173 ... 0.01395696 0.01395696 0.01395696]]\n",
      "\n",
      " [[0.         0.         0.         ... 0.         0.         0.        ]\n",
      "  [0.         0.         0.         ... 0.         0.         0.        ]\n",
      "  [0.         0.         0.         ... 0.         0.         0.        ]\n",
      "  ...\n",
      "  [0.         0.         0.         ... 0.         0.         0.        ]\n",
      "  [0.         0.         0.         ... 0.         0.         0.        ]\n",
      "  [0.         0.         0.         ... 0.         0.         0.        ]]\n",
      "\n",
      " [[0.01029282 0.01029282 0.01029282 ... 0.01029282 0.01029282 0.01029282]\n",
      "  [0.01029282 0.01029282 0.01029282 ... 0.01029282 0.01029282 0.01029282]\n",
      "  [0.01029282 0.01029282 0.01029282 ... 0.01029282 0.01029282 0.01029282]\n",
      "  ...\n",
      "  [0.00847156 0.00847156 0.00847156 ... 0.04235778 0.04235778 0.04235778]\n",
      "  [0.00847156 0.00847156 0.00847156 ... 0.04235778 0.04235778 0.04235778]\n",
      "  [0.00847156 0.00847156 0.00847156 ... 0.04235778 0.04235778 0.04235778]]\n",
      "\n",
      " ...\n",
      "\n",
      " [[0.         0.         0.         ... 0.         0.         0.        ]\n",
      "  [0.         0.         0.         ... 0.         0.         0.        ]\n",
      "  [0.         0.         0.         ... 0.         0.         0.        ]\n",
      "  ...\n",
      "  [0.         0.         0.         ... 0.         0.         0.        ]\n",
      "  [0.         0.         0.         ... 0.         0.         0.        ]\n",
      "  [0.         0.         0.         ... 0.         0.         0.        ]]\n",
      "\n",
      " [[0.         0.         0.         ... 0.         0.         0.        ]\n",
      "  [0.         0.         0.         ... 0.         0.         0.        ]\n",
      "  [0.         0.         0.         ... 0.         0.         0.        ]\n",
      "  ...\n",
      "  [0.         0.         0.         ... 0.         0.         0.        ]\n",
      "  [0.         0.         0.         ... 0.         0.         0.        ]\n",
      "  [0.         0.         0.         ... 0.         0.         0.        ]]\n",
      "\n",
      " [[0.01467317 0.01467317 0.01467317 ... 0.00489106 0.00489106 0.00489106]\n",
      "  [0.01467317 0.01467317 0.01467317 ... 0.00489106 0.00489106 0.00489106]\n",
      "  [0.01467317 0.01467317 0.01467317 ... 0.00489106 0.00489106 0.00489106]\n",
      "  ...\n",
      "  [0.00369729 0.00369729 0.00369729 ... 0.0837622  0.0837622  0.0837622 ]\n",
      "  [0.00369729 0.00369729 0.00369729 ... 0.0837622  0.0837622  0.0837622 ]\n",
      "  [0.00369729 0.00369729 0.00369729 ... 0.0837622  0.0837622  0.0837622 ]]], shape=(128, 224, 224), dtype=float32)\n",
      "(128, 224, 224, 3)\n",
      "(128,)\n",
      "tf.Tensor(\n",
      "[[[1.64311230e-02 1.64311230e-02 1.64311230e-02 ... 1.29405148e-02\n",
      "   1.29405148e-02 1.29405148e-02]\n",
      "  [1.64311230e-02 1.64311230e-02 1.64311230e-02 ... 1.29405148e-02\n",
      "   1.29405148e-02 1.29405148e-02]\n",
      "  [1.64311230e-02 1.64311230e-02 1.64311230e-02 ... 1.29405148e-02\n",
      "   1.29405148e-02 1.29405148e-02]\n",
      "  ...\n",
      "  [2.48709749e-02 2.48709749e-02 2.48709749e-02 ... 1.02928206e-02\n",
      "   1.02928206e-02 1.02928206e-02]\n",
      "  [2.48709749e-02 2.48709749e-02 2.48709749e-02 ... 1.02928206e-02\n",
      "   1.02928206e-02 1.02928206e-02]\n",
      "  [2.48709749e-02 2.48709749e-02 2.48709749e-02 ... 1.02928206e-02\n",
      "   1.02928206e-02 1.02928206e-02]]\n",
      "\n",
      " [[0.00000000e+00 0.00000000e+00 0.00000000e+00 ... 0.00000000e+00\n",
      "   5.96046448e-08 5.96046448e-08]\n",
      "  [0.00000000e+00 0.00000000e+00 0.00000000e+00 ... 0.00000000e+00\n",
      "   0.00000000e+00 0.00000000e+00]\n",
      "  [0.00000000e+00 0.00000000e+00 0.00000000e+00 ... 0.00000000e+00\n",
      "   0.00000000e+00 0.00000000e+00]\n",
      "  ...\n",
      "  [0.00000000e+00 0.00000000e+00 0.00000000e+00 ... 0.00000000e+00\n",
      "   0.00000000e+00 0.00000000e+00]\n",
      "  [0.00000000e+00 0.00000000e+00 0.00000000e+00 ... 0.00000000e+00\n",
      "   0.00000000e+00 0.00000000e+00]\n",
      "  [0.00000000e+00 0.00000000e+00 0.00000000e+00 ... 0.00000000e+00\n",
      "   0.00000000e+00 0.00000000e+00]]\n",
      "\n",
      " [[3.10990252e-02 3.10990252e-02 3.10990252e-02 ... 1.02878392e-01\n",
      "   1.02878392e-01 1.02878392e-01]\n",
      "  [3.10990252e-02 3.10990252e-02 3.10990252e-02 ... 1.02878392e-01\n",
      "   1.02878392e-01 1.02878392e-01]\n",
      "  [3.10990252e-02 3.10990252e-02 3.10990252e-02 ... 1.02878392e-01\n",
      "   1.02878392e-01 1.02878392e-01]\n",
      "  ...\n",
      "  [8.25912133e-02 8.25912133e-02 8.25912133e-02 ... 7.21919090e-02\n",
      "   7.21919090e-02 7.21919090e-02]\n",
      "  [8.25912133e-02 8.25912133e-02 8.25912133e-02 ... 7.21919090e-02\n",
      "   7.21919090e-02 7.21919090e-02]\n",
      "  [8.25912133e-02 8.25912133e-02 8.25912133e-02 ... 7.21919090e-02\n",
      "   7.21919090e-02 7.21919090e-02]]\n",
      "\n",
      " ...\n",
      "\n",
      " [[1.69431120e-02 1.69431120e-02 1.69431120e-02 ... 1.76349562e-02\n",
      "   1.76349562e-02 1.76349562e-02]\n",
      "  [1.69431120e-02 1.69431120e-02 1.69431120e-02 ... 1.76349562e-02\n",
      "   1.76349562e-02 1.76349562e-02]\n",
      "  [1.69431120e-02 1.69431120e-02 1.69431120e-02 ... 1.76349562e-02\n",
      "   1.76349562e-02 1.76349562e-02]\n",
      "  ...\n",
      "  [1.69431195e-02 1.69431195e-02 1.69431195e-02 ... 2.24136300e-02\n",
      "   2.24136300e-02 2.24136300e-02]\n",
      "  [1.69431195e-02 1.69431195e-02 1.69431195e-02 ... 2.24136300e-02\n",
      "   2.24136300e-02 2.24136300e-02]\n",
      "  [1.69431195e-02 1.69431195e-02 1.69431195e-02 ... 2.24136300e-02\n",
      "   2.24136300e-02 2.24136300e-02]]\n",
      "\n",
      " [[1.29405148e-02 1.29405148e-02 1.29405148e-02 ... 1.12448689e-02\n",
      "   1.12448689e-02 1.12448689e-02]\n",
      "  [1.29405148e-02 1.29405148e-02 1.29405148e-02 ... 1.12448689e-02\n",
      "   1.12448689e-02 1.12448689e-02]\n",
      "  [1.29405148e-02 1.29405148e-02 1.29405148e-02 ... 1.12448689e-02\n",
      "   1.12448689e-02 1.12448689e-02]\n",
      "  ...\n",
      "  [8.47155601e-03 8.47155601e-03 8.47155601e-03 ... 1.04165874e-01\n",
      "   1.04165874e-01 1.04165874e-01]\n",
      "  [8.47155601e-03 8.47155601e-03 8.47155601e-03 ... 1.04165874e-01\n",
      "   1.04165874e-01 1.04165874e-01]\n",
      "  [8.47155601e-03 8.47155601e-03 8.47155601e-03 ... 1.04165874e-01\n",
      "   1.04165874e-01 1.04165874e-01]]\n",
      "\n",
      " [[1.29405148e-02 1.29405148e-02 1.29405148e-02 ... 8.47155601e-03\n",
      "   8.47155601e-03 8.47155601e-03]\n",
      "  [1.29405148e-02 1.29405148e-02 1.29405148e-02 ... 8.47155601e-03\n",
      "   8.47155601e-03 8.47155601e-03]\n",
      "  [1.29405148e-02 1.29405148e-02 1.29405148e-02 ... 8.47155601e-03\n",
      "   8.47155601e-03 8.47155601e-03]\n",
      "  ...\n",
      "  [3.69729032e-03 3.69729032e-03 3.69729032e-03 ... 6.79487213e-02\n",
      "   6.79487213e-02 6.79487213e-02]\n",
      "  [3.69729032e-03 3.69729032e-03 3.69729032e-03 ... 6.79487213e-02\n",
      "   6.79487213e-02 6.79487213e-02]\n",
      "  [3.69729032e-03 3.69729032e-03 3.69729032e-03 ... 6.79487213e-02\n",
      "   6.79487213e-02 6.79487213e-02]]], shape=(128, 224, 224), dtype=float32)\n",
      "(18, 224, 224, 3)\n",
      "(18,)\n",
      "tf.Tensor(\n",
      "[[[0.02975113 0.02975113 0.02975113 ... 0.03775042 0.03775042 0.03775042]\n",
      "  [0.02975113 0.02975113 0.02975113 ... 0.03775042 0.03775042 0.03775042]\n",
      "  [0.02975113 0.02975113 0.02975113 ... 0.03775042 0.03775042 0.03775042]\n",
      "  ...\n",
      "  [0.02500802 0.02500802 0.02500802 ... 0.02735747 0.02735747 0.02735747]\n",
      "  [0.02500802 0.02500802 0.02500802 ... 0.02735747 0.02735747 0.02735747]\n",
      "  [0.02500802 0.02500802 0.02500802 ... 0.02735747 0.02735747 0.02735747]]\n",
      "\n",
      " [[0.00847156 0.00847156 0.00847156 ... 0.01124487 0.01124487 0.01124487]\n",
      "  [0.00847156 0.00847156 0.00847156 ... 0.01124487 0.01124487 0.01124487]\n",
      "  [0.00847156 0.00847156 0.00847156 ... 0.01124487 0.01124487 0.01124487]\n",
      "  ...\n",
      "  [0.00489106 0.00489106 0.00489106 ... 0.01579483 0.01579483 0.01579483]\n",
      "  [0.00489106 0.00489106 0.00489106 ... 0.01579483 0.01579483 0.01579483]\n",
      "  [0.00489106 0.00489106 0.00489106 ... 0.01579483 0.01579483 0.01579483]]\n",
      "\n",
      " [[0.01782769 0.01782769 0.01782769 ... 0.03201947 0.03201947 0.03201947]\n",
      "  [0.01782769 0.01782769 0.01782769 ... 0.03201947 0.03201947 0.03201947]\n",
      "  [0.01782769 0.01782769 0.01782769 ... 0.03201947 0.03201947 0.03201947]\n",
      "  ...\n",
      "  [0.02058565 0.02058565 0.02058565 ... 0.01763495 0.01763495 0.01763495]\n",
      "  [0.02058565 0.02058565 0.02058565 ... 0.01763495 0.01763495 0.01763495]\n",
      "  [0.02058565 0.02058565 0.02058565 ... 0.01763495 0.01763495 0.01763495]]\n",
      "\n",
      " ...\n",
      "\n",
      " [[0.01124487 0.01124487 0.01124487 ... 0.01395696 0.01395696 0.01395696]\n",
      "  [0.01124487 0.01124487 0.01124487 ... 0.01395696 0.01395696 0.01395696]\n",
      "  [0.01039348 0.01039348 0.01039348 ... 0.01395695 0.01395696 0.01395698]\n",
      "  ...\n",
      "  [0.02424475 0.02424475 0.02424475 ... 0.01839185 0.01710645 0.01710645]\n",
      "  [0.02424475 0.02424475 0.02424475 ... 0.01745536 0.01611611 0.01611611]\n",
      "  [0.02424475 0.02424475 0.02424475 ... 0.01745536 0.01611611 0.01611611]]\n",
      "\n",
      " [[0.01124487 0.01124487 0.01124487 ... 0.00489106 0.00489106 0.00489106]\n",
      "  [0.01124487 0.01124487 0.01124487 ... 0.00489106 0.00489106 0.00489106]\n",
      "  [0.01124487 0.01124487 0.01124487 ... 0.00489106 0.00489106 0.00489106]\n",
      "  ...\n",
      "  [0.01443838 0.01443838 0.01443838 ... 0.09607621 0.09607621 0.09607621]\n",
      "  [0.01443838 0.01443838 0.01443838 ... 0.09607621 0.09607621 0.09607621]\n",
      "  [0.01443838 0.01443838 0.01443838 ... 0.09607621 0.09607621 0.09607621]]\n",
      "\n",
      " [[0.00847157 0.00847157 0.00847157 ... 0.01395698 0.01395698 0.01395698]\n",
      "  [0.00847157 0.00847157 0.00847157 ... 0.01395698 0.01395698 0.01395698]\n",
      "  [0.00847157 0.00847157 0.00847157 ... 0.01395698 0.01395698 0.01395698]\n",
      "  ...\n",
      "  [0.00369729 0.00369729 0.00369729 ... 0.03054463 0.03054463 0.03054463]\n",
      "  [0.00369729 0.00369729 0.00369729 ... 0.03054463 0.03054463 0.03054463]\n",
      "  [0.00369729 0.00369729 0.00369729 ... 0.03054463 0.03054463 0.03054463]]], shape=(18, 224, 224), dtype=float32)\n"
     ]
    },
    {
     "name": "stderr",
     "output_type": "stream",
     "text": [
      "2024-04-06 03:07:47.908977: W tensorflow/core/framework/local_rendezvous.cc:404] Local rendezvous is aborting with status: OUT_OF_RANGE: End of sequence\n"
     ]
    }
   ],
   "source": [
    "for image_batch, labels_batch in train_ds:\n",
    "  print(image_batch.shape)\n",
    "  print(labels_batch.shape)\n",
    "  print(tf.math.reduce_std(\n",
    "    image_batch, axis=3, keepdims=False, name=None\n",
    "))\n"
   ]
  },
  {
   "cell_type": "code",
   "execution_count": 118,
   "metadata": {},
   "outputs": [
    {
     "name": "stdout",
     "output_type": "stream",
     "text": [
      "Overall Mean: [0.24796219 0.25571847 0.24300198]\n",
      "Overall Std: [0.26268384 0.25356188 0.24591589]\n"
     ]
    },
    {
     "name": "stderr",
     "output_type": "stream",
     "text": [
      "2024-04-06 03:07:50.955313: W tensorflow/core/framework/local_rendezvous.cc:404] Local rendezvous is aborting with status: OUT_OF_RANGE: End of sequence\n"
     ]
    }
   ],
   "source": [
    "pixel_means = []\n",
    "pixel_stds = []\n",
    "total_samples = 0\n",
    "for image_batch, labels_batch in train_ds:\n",
    "    pixel_means.append(np.mean(image_batch, axis=(0, 1, 2)))\n",
    "    pixel_stds.append(np.std(image_batch, axis=(0, 1, 2)))\n",
    "    total_samples += image_batch.shape[0]\n",
    "    \n",
    "mean = np.mean(pixel_means, axis=0)\n",
    "std = np.mean(pixel_stds, axis=0)\n",
    "\n",
    "print(\"Overall Mean:\", mean)\n",
    "print(\"Overall Std:\", std)"
   ]
  },
  {
   "cell_type": "markdown",
   "metadata": {
    "id": "JzV457OXreQP"
   },
   "source": [
    "### Download the headless model\n",
    "\n",
    "TensorFlow Hub also distributes models without the top classification layer. These can be used to easily perform transfer learning.\n",
    "\n",
    "Select a <a href=\"https://arxiv.org/abs/1801.04381\" class=\"external\">MobileNetV2</a> pre-trained model <a href=\"https://tfhub.dev/google/tf2-preview/mobilenet_v2/feature_vector/4\" class=\"external\">from TensorFlow Hub</a>. Any <a href=\"https://tfhub.dev/s?module-type=image-feature-vector&q=tf2\" class=\"external\">compatible image feature vector model</a> from TensorFlow Hub will work here, including the examples from the drop-down menu."
   ]
  },
  {
   "cell_type": "code",
   "execution_count": 119,
   "metadata": {
    "execution": {
     "iopub.execute_input": "2023-10-27T06:10:03.069378Z",
     "iopub.status.busy": "2023-10-27T06:10:03.068720Z",
     "iopub.status.idle": "2023-10-27T06:10:03.072206Z",
     "shell.execute_reply": "2023-10-27T06:10:03.071567Z"
    },
    "id": "4bw8Jf94DSnP"
   },
   "outputs": [],
   "source": [
    "mobilenet_v2 = \"https://tfhub.dev/google/tf2-preview/mobilenet_v2/feature_vector/4\"\n",
    "inception_v3 = \"https://tfhub.dev/google/tf2-preview/inception_v3/feature_vector/4\"\n",
    "\n",
    "feature_extractor_model = mobilenet_v2 #@param [\"mobilenet_v2\", \"inception_v3\"] {type:\"raw\"}"
   ]
  },
  {
   "cell_type": "markdown",
   "metadata": {
    "id": "sgwmHugQF-PD"
   },
   "source": [
    "Create the feature extractor by wrapping the pre-trained model as a Keras layer with [`hub.KerasLayer`](https://www.tensorflow.org/hub/api_docs/python/hub/KerasLayer). Use the `trainable=False` argument to freeze the variables, so that the training only modifies the new classifier layer:"
   ]
  },
  {
   "cell_type": "code",
   "execution_count": 120,
   "metadata": {
    "execution": {
     "iopub.execute_input": "2023-10-27T06:10:03.075767Z",
     "iopub.status.busy": "2023-10-27T06:10:03.075166Z",
     "iopub.status.idle": "2023-10-27T06:10:04.279813Z",
     "shell.execute_reply": "2023-10-27T06:10:04.278979Z"
    },
    "id": "5wB030nezBwI"
   },
   "outputs": [],
   "source": [
    "feature_extractor_layer = hub.KerasLayer(\n",
    "    feature_extractor_model,\n",
    "    input_shape=(224, 224, 3),\n",
    "    trainable=False)"
   ]
  },
  {
   "cell_type": "markdown",
   "metadata": {
    "id": "0QzVdu4ZhcDE"
   },
   "source": [
    "The feature extractor returns a 1280-long vector for each image (the image batch size remains at 32 in this example):"
   ]
  },
  {
   "cell_type": "code",
   "execution_count": 121,
   "metadata": {
    "execution": {
     "iopub.execute_input": "2023-10-27T06:10:04.284137Z",
     "iopub.status.busy": "2023-10-27T06:10:04.283834Z",
     "iopub.status.idle": "2023-10-27T06:10:04.663122Z",
     "shell.execute_reply": "2023-10-27T06:10:04.662338Z"
    },
    "id": "Of7i-35F09ls"
   },
   "outputs": [
    {
     "name": "stdout",
     "output_type": "stream",
     "text": [
      "(18, 1280)\n"
     ]
    }
   ],
   "source": [
    "feature_batch = feature_extractor_layer(image_batch)\n",
    "print(feature_batch.shape)"
   ]
  },
  {
   "cell_type": "markdown",
   "metadata": {
    "id": "RPVeouTksO9q"
   },
   "source": [
    "### Attach a classification head\n",
    "\n",
    "To complete the model, wrap the feature extractor layer in a `tf.keras.Sequential` model and add a fully-connected layer for classification:"
   ]
  },
  {
   "cell_type": "code",
   "execution_count": 122,
   "metadata": {
    "execution": {
     "iopub.execute_input": "2023-10-27T06:10:04.666671Z",
     "iopub.status.busy": "2023-10-27T06:10:04.666421Z",
     "iopub.status.idle": "2023-10-27T06:10:04.924500Z",
     "shell.execute_reply": "2023-10-27T06:10:04.923812Z"
    },
    "id": "vQq_kCWzlqSu"
   },
   "outputs": [
    {
     "name": "stdout",
     "output_type": "stream",
     "text": [
      "Model: \"sequential_5\"\n",
      "_________________________________________________________________\n",
      " Layer (type)                Output Shape              Param #   \n",
      "=================================================================\n",
      " keras_layer_5 (KerasLayer)  (None, 1280)              2257984   \n",
      "                                                                 \n",
      " dense_4 (Dense)             (None, 4)                 5124      \n",
      "                                                                 \n",
      "=================================================================\n",
      "Total params: 2263108 (8.63 MB)\n",
      "Trainable params: 5124 (20.02 KB)\n",
      "Non-trainable params: 2257984 (8.61 MB)\n",
      "_________________________________________________________________\n"
     ]
    }
   ],
   "source": [
    "num_classes = len(class_names)\n",
    "\n",
    "model = tf.keras.Sequential([\n",
    "  feature_extractor_layer,\n",
    "  tf.keras.layers.Dense(num_classes)\n",
    "])\n",
    "\n",
    "model.summary()"
   ]
  },
  {
   "cell_type": "code",
   "execution_count": 123,
   "metadata": {
    "execution": {
     "iopub.execute_input": "2023-10-27T06:10:04.927746Z",
     "iopub.status.busy": "2023-10-27T06:10:04.927254Z",
     "iopub.status.idle": "2023-10-27T06:10:04.945078Z",
     "shell.execute_reply": "2023-10-27T06:10:04.944473Z"
    },
    "id": "IyhX4VCFmzVS"
   },
   "outputs": [],
   "source": [
    "predictions = model(image_batch)"
   ]
  },
  {
   "cell_type": "code",
   "execution_count": 124,
   "metadata": {
    "execution": {
     "iopub.execute_input": "2023-10-27T06:10:04.948241Z",
     "iopub.status.busy": "2023-10-27T06:10:04.947821Z",
     "iopub.status.idle": "2023-10-27T06:10:04.952074Z",
     "shell.execute_reply": "2023-10-27T06:10:04.951465Z"
    },
    "id": "FQdUaTkzm3jQ"
   },
   "outputs": [
    {
     "data": {
      "text/plain": [
       "TensorShape([18, 4])"
      ]
     },
     "execution_count": 124,
     "metadata": {},
     "output_type": "execute_result"
    }
   ],
   "source": [
    "predictions.shape"
   ]
  },
  {
   "cell_type": "markdown",
   "metadata": {
    "id": "OHbXQqIquFxQ"
   },
   "source": [
    "### Train the model\n",
    "\n",
    "Use `Model.compile` to configure the training process and add a `tf.keras.callbacks.TensorBoard` callback to create and store logs:"
   ]
  },
  {
   "cell_type": "code",
   "execution_count": 125,
   "metadata": {
    "execution": {
     "iopub.execute_input": "2023-10-27T06:10:04.955276Z",
     "iopub.status.busy": "2023-10-27T06:10:04.954882Z",
     "iopub.status.idle": "2023-10-27T06:10:04.986845Z",
     "shell.execute_reply": "2023-10-27T06:10:04.986263Z"
    },
    "id": "4xRx8Rjzm67O"
   },
   "outputs": [],
   "source": [
    "model.compile(\n",
    "  optimizer=tf.keras.optimizers.legacy.Adam(),\n",
    "  loss=tf.keras.losses.SparseCategoricalCrossentropy(from_logits=True),\n",
    "  metrics=['acc'])\n",
    "\n",
    "log_dir = \"logs/fit/\" + datetime.datetime.now().strftime(\"%Y%m%d-%H%M%S\")\n",
    "tensorboard_callback = tf.keras.callbacks.TensorBoard(\n",
    "    log_dir=log_dir,\n",
    "    histogram_freq=1) # Enable histogram computation for every epoch."
   ]
  },
  {
   "cell_type": "markdown",
   "metadata": {
    "id": "58-BLV7dupJA"
   },
   "source": [
    "Now use the `Model.fit` method to train the model.\n",
    "\n",
    "To keep this example short, you'll be training for just 10 epochs. To visualize the training progress in TensorBoard later, create and store logs an a [TensorBoard callback](https://www.tensorflow.org/tensorboard/get_started#using_tensorboard_with_keras_modelfit)."
   ]
  },
  {
   "cell_type": "code",
   "execution_count": 126,
   "metadata": {
    "execution": {
     "iopub.execute_input": "2023-10-27T06:10:04.990119Z",
     "iopub.status.busy": "2023-10-27T06:10:04.989740Z",
     "iopub.status.idle": "2023-10-27T06:11:08.309316Z",
     "shell.execute_reply": "2023-10-27T06:11:08.308470Z"
    },
    "id": "JI0yAKd-nARd"
   },
   "outputs": [
    {
     "name": "stdout",
     "output_type": "stream",
     "text": [
      "Epoch 1/30\n",
      "19/19 [==============================] - 17s 826ms/step - loss: 0.9380 - acc: 0.6684 - val_loss: 0.5690 - val_acc: 0.8227\n",
      "Epoch 2/30\n",
      "19/19 [==============================] - 13s 700ms/step - loss: 0.2589 - acc: 0.9285 - val_loss: 0.4444 - val_acc: 0.8511\n",
      "Epoch 3/30\n",
      "19/19 [==============================] - 12s 650ms/step - loss: 0.1695 - acc: 0.9500 - val_loss: 0.3350 - val_acc: 0.8794\n",
      "Epoch 4/30\n",
      "19/19 [==============================] - 12s 637ms/step - loss: 0.1314 - acc: 0.9634 - val_loss: 0.3056 - val_acc: 0.8865\n",
      "Epoch 5/30\n",
      "19/19 [==============================] - 12s 640ms/step - loss: 0.1104 - acc: 0.9716 - val_loss: 0.2791 - val_acc: 0.8794\n",
      "Epoch 6/30\n",
      "19/19 [==============================] - 12s 652ms/step - loss: 0.0960 - acc: 0.9789 - val_loss: 0.2602 - val_acc: 0.8794\n",
      "Epoch 7/30\n",
      "19/19 [==============================] - 13s 667ms/step - loss: 0.0850 - acc: 0.9819 - val_loss: 0.2476 - val_acc: 0.8936\n",
      "Epoch 8/30\n",
      "19/19 [==============================] - 12s 657ms/step - loss: 0.0763 - acc: 0.9845 - val_loss: 0.2371 - val_acc: 0.9007\n",
      "Epoch 9/30\n",
      "19/19 [==============================] - 12s 644ms/step - loss: 0.0692 - acc: 0.9866 - val_loss: 0.2291 - val_acc: 0.8936\n",
      "Epoch 10/30\n",
      "19/19 [==============================] - 14s 752ms/step - loss: 0.0632 - acc: 0.9879 - val_loss: 0.2225 - val_acc: 0.8865\n",
      "Epoch 11/30\n",
      "19/19 [==============================] - 13s 691ms/step - loss: 0.0581 - acc: 0.9884 - val_loss: 0.2170 - val_acc: 0.8936\n",
      "Epoch 12/30\n",
      "19/19 [==============================] - 13s 693ms/step - loss: 0.0537 - acc: 0.9901 - val_loss: 0.2125 - val_acc: 0.9007\n",
      "Epoch 13/30\n",
      "19/19 [==============================] - 14s 716ms/step - loss: 0.0499 - acc: 0.9905 - val_loss: 0.2087 - val_acc: 0.9149\n",
      "Epoch 14/30\n",
      "19/19 [==============================] - 14s 746ms/step - loss: 0.0465 - acc: 0.9914 - val_loss: 0.2055 - val_acc: 0.9220\n",
      "Epoch 15/30\n",
      "19/19 [==============================] - 14s 726ms/step - loss: 0.0435 - acc: 0.9931 - val_loss: 0.2028 - val_acc: 0.9220\n",
      "Epoch 16/30\n",
      "19/19 [==============================] - 12s 660ms/step - loss: 0.0408 - acc: 0.9940 - val_loss: 0.2004 - val_acc: 0.9220\n",
      "Epoch 17/30\n",
      "19/19 [==============================] - 14s 732ms/step - loss: 0.0384 - acc: 0.9961 - val_loss: 0.1984 - val_acc: 0.9220\n",
      "Epoch 18/30\n",
      "19/19 [==============================] - 13s 681ms/step - loss: 0.0362 - acc: 0.9961 - val_loss: 0.1967 - val_acc: 0.9291\n",
      "Epoch 19/30\n",
      "19/19 [==============================] - 13s 671ms/step - loss: 0.0342 - acc: 0.9961 - val_loss: 0.1952 - val_acc: 0.9291\n",
      "Epoch 20/30\n",
      "19/19 [==============================] - 13s 686ms/step - loss: 0.0324 - acc: 0.9966 - val_loss: 0.1940 - val_acc: 0.9291\n",
      "Epoch 21/30\n",
      "19/19 [==============================] - 12s 647ms/step - loss: 0.0307 - acc: 0.9966 - val_loss: 0.1929 - val_acc: 0.9291\n",
      "Epoch 22/30\n",
      "19/19 [==============================] - 13s 706ms/step - loss: 0.0292 - acc: 0.9966 - val_loss: 0.1919 - val_acc: 0.9291\n",
      "Epoch 23/30\n",
      "19/19 [==============================] - 13s 661ms/step - loss: 0.0278 - acc: 0.9966 - val_loss: 0.1911 - val_acc: 0.9291\n",
      "Epoch 24/30\n",
      "19/19 [==============================] - 12s 618ms/step - loss: 0.0265 - acc: 0.9966 - val_loss: 0.1903 - val_acc: 0.9291\n",
      "Epoch 25/30\n",
      "19/19 [==============================] - 12s 620ms/step - loss: 0.0253 - acc: 0.9966 - val_loss: 0.1897 - val_acc: 0.9291\n",
      "Epoch 26/30\n",
      "19/19 [==============================] - 13s 716ms/step - loss: 0.0242 - acc: 0.9970 - val_loss: 0.1892 - val_acc: 0.9291\n",
      "Epoch 27/30\n",
      "19/19 [==============================] - 14s 717ms/step - loss: 0.0231 - acc: 0.9970 - val_loss: 0.1887 - val_acc: 0.9291\n",
      "Epoch 28/30\n",
      "19/19 [==============================] - 13s 703ms/step - loss: 0.0222 - acc: 0.9970 - val_loss: 0.1883 - val_acc: 0.9291\n",
      "Epoch 29/30\n",
      "19/19 [==============================] - 14s 728ms/step - loss: 0.0212 - acc: 0.9974 - val_loss: 0.1880 - val_acc: 0.9291\n",
      "Epoch 30/30\n",
      "19/19 [==============================] - 12s 659ms/step - loss: 0.0204 - acc: 0.9974 - val_loss: 0.1877 - val_acc: 0.9362\n"
     ]
    }
   ],
   "source": [
    "NUM_EPOCHS = 30\n",
    "\n",
    "history = model.fit(train_ds,\n",
    "                    validation_data=val_ds,\n",
    "                    epochs=NUM_EPOCHS,\n",
    "                    callbacks=tensorboard_callback)"
   ]
  },
  {
   "cell_type": "markdown",
   "metadata": {
    "id": "tiDbmiAK_h03"
   },
   "source": [
    "Start the TensorBoard to view how the metrics change with each epoch and to track other scalar values:"
   ]
  },
  {
   "cell_type": "code",
   "execution_count": 105,
   "metadata": {
    "id": "-yVJar0MiT2t"
   },
   "outputs": [
    {
     "data": {
      "text/plain": [
       "Reusing TensorBoard on port 6006 (pid 5314), started 1:04:54 ago. (Use '!kill 5314' to kill it.)"
      ]
     },
     "metadata": {},
     "output_type": "display_data"
    },
    {
     "data": {
      "text/html": [
       "\n",
       "      <iframe id=\"tensorboard-frame-f9cd7f20f59216a6\" width=\"100%\" height=\"800\" frameborder=\"0\">\n",
       "      </iframe>\n",
       "      <script>\n",
       "        (function() {\n",
       "          const frame = document.getElementById(\"tensorboard-frame-f9cd7f20f59216a6\");\n",
       "          const url = new URL(\"http://localhost\");\n",
       "          const port = 6006;\n",
       "          if (port) {\n",
       "            url.port = port;\n",
       "          }\n",
       "          frame.src = url;\n",
       "        })();\n",
       "      </script>\n",
       "    "
      ],
      "text/plain": [
       "<IPython.core.display.HTML object>"
      ]
     },
     "metadata": {},
     "output_type": "display_data"
    }
   ],
   "source": [
    "%tensorboard --logdir logs/fit"
   ]
  },
  {
   "cell_type": "markdown",
   "metadata": {
    "id": "36a9d7cab8c8"
   },
   "source": [
    "<!-- <img class=\"tfo-display-only-on-site\" src=\"https://github.com/tensorflow/docs/blob/master/site/en/tutorials/images/images/tensorboard_transfer_learning_with_hub.png?raw=1\"/> -->"
   ]
  },
  {
   "cell_type": "markdown",
   "metadata": {
    "id": "kb__ZN8uFn-D"
   },
   "source": [
    "### Check the predictions\n",
    "\n",
    "Obtain the ordered list of class names from the model predictions:"
   ]
  },
  {
   "cell_type": "code",
   "execution_count": 106,
   "metadata": {
    "execution": {
     "iopub.execute_input": "2023-10-27T06:11:08.313829Z",
     "iopub.status.busy": "2023-10-27T06:11:08.313179Z",
     "iopub.status.idle": "2023-10-27T06:11:08.853419Z",
     "shell.execute_reply": "2023-10-27T06:11:08.852660Z"
    },
    "id": "JGbEf5l1I4jz"
   },
   "outputs": [
    {
     "name": "stdout",
     "output_type": "stream",
     "text": [
      "WARNING:tensorflow:6 out of the last 81 calls to <function Model.make_predict_function.<locals>.predict_function at 0x17dc468e0> triggered tf.function retracing. Tracing is expensive and the excessive number of tracings could be due to (1) creating @tf.function repeatedly in a loop, (2) passing tensors with different shapes, (3) passing Python objects instead of tensors. For (1), please define your @tf.function outside of the loop. For (2), @tf.function has reduce_retracing=True option that can avoid unnecessary retracing. For (3), please refer to https://www.tensorflow.org/guide/function#controlling_retracing and https://www.tensorflow.org/api_docs/python/tf/function for  more details.\n"
     ]
    },
    {
     "name": "stderr",
     "output_type": "stream",
     "text": [
      "WARNING:tensorflow:6 out of the last 81 calls to <function Model.make_predict_function.<locals>.predict_function at 0x17dc468e0> triggered tf.function retracing. Tracing is expensive and the excessive number of tracings could be due to (1) creating @tf.function repeatedly in a loop, (2) passing tensors with different shapes, (3) passing Python objects instead of tensors. For (1), please define your @tf.function outside of the loop. For (2), @tf.function has reduce_retracing=True option that can avoid unnecessary retracing. For (3), please refer to https://www.tensorflow.org/guide/function#controlling_retracing and https://www.tensorflow.org/api_docs/python/tf/function for  more details.\n"
     ]
    },
    {
     "name": "stdout",
     "output_type": "stream",
     "text": [
      "1/1 [==============================] - 0s 490ms/step\n",
      "tf.Tensor([2 2 3 3 1 2 1 2 2 0 1 0 2 2 3 3 1 2], shape=(18,), dtype=int64)\n",
      "['POWER SWITCH' 'POWER SWITCH' 'WAN ETHERNET' 'WAN ETHERNET' 'POWER PORT'\n",
      " 'POWER SWITCH' 'POWER PORT' 'POWER SWITCH' 'POWER SWITCH' 'LAN'\n",
      " 'POWER PORT' 'LAN' 'POWER SWITCH' 'POWER SWITCH' 'WAN ETHERNET'\n",
      " 'WAN ETHERNET' 'POWER PORT' 'POWER SWITCH']\n"
     ]
    }
   ],
   "source": [
    "predicted_batch = model.predict(image_batch)\n",
    "predicted_id = tf.math.argmax(predicted_batch, axis=-1)\n",
    "print(predicted_id)\n",
    "predicted_label_batch = class_names[predicted_id]\n",
    "print(predicted_label_batch)"
   ]
  },
  {
   "cell_type": "markdown",
   "metadata": {
    "id": "CkGbZxl9GZs-"
   },
   "source": [
    "Plot the model predictions:"
   ]
  },
  {
   "cell_type": "code",
   "execution_count": 107,
   "metadata": {
    "execution": {
     "iopub.execute_input": "2023-10-27T06:11:08.857183Z",
     "iopub.status.busy": "2023-10-27T06:11:08.856529Z",
     "iopub.status.idle": "2023-10-27T06:11:10.242462Z",
     "shell.execute_reply": "2023-10-27T06:11:10.241745Z"
    },
    "id": "hW3Ic_ZlwtrZ"
   },
   "outputs": [
    {
     "name": "stderr",
     "output_type": "stream",
     "text": [
      "2024-04-06 02:54:22.373558: W tensorflow/core/framework/op_kernel.cc:1839] OP_REQUIRES failed at strided_slice_op.cc:117 : INVALID_ARGUMENT: slice index 18 of dimension 0 out of bounds.\n",
      "2024-04-06 02:54:22.373578: W tensorflow/core/framework/local_rendezvous.cc:404] Local rendezvous is aborting with status: INVALID_ARGUMENT: slice index 18 of dimension 0 out of bounds.\n"
     ]
    },
    {
     "ename": "InvalidArgumentError",
     "evalue": "{{function_node __wrapped__StridedSlice_device_/job:localhost/replica:0/task:0/device:CPU:0}} slice index 18 of dimension 0 out of bounds. [Op:StridedSlice] name: strided_slice/",
     "output_type": "error",
     "traceback": [
      "\u001b[0;31m---------------------------------------------------------------------------\u001b[0m",
      "\u001b[0;31mInvalidArgumentError\u001b[0m                      Traceback (most recent call last)",
      "Cell \u001b[0;32mIn[107], line 6\u001b[0m\n\u001b[1;32m      4\u001b[0m \u001b[38;5;28;01mfor\u001b[39;00m n \u001b[38;5;129;01min\u001b[39;00m \u001b[38;5;28mrange\u001b[39m(\u001b[38;5;241m30\u001b[39m):\n\u001b[1;32m      5\u001b[0m   plt\u001b[38;5;241m.\u001b[39msubplot(\u001b[38;5;241m6\u001b[39m,\u001b[38;5;241m5\u001b[39m,n\u001b[38;5;241m+\u001b[39m\u001b[38;5;241m1\u001b[39m)\n\u001b[0;32m----> 6\u001b[0m   plt\u001b[38;5;241m.\u001b[39mimshow(\u001b[43mimage_batch\u001b[49m\u001b[43m[\u001b[49m\u001b[43mn\u001b[49m\u001b[43m]\u001b[49m)\n\u001b[1;32m      7\u001b[0m   plt\u001b[38;5;241m.\u001b[39mtitle(predicted_label_batch[n]\u001b[38;5;241m.\u001b[39mtitle())\n\u001b[1;32m      8\u001b[0m   plt\u001b[38;5;241m.\u001b[39maxis(\u001b[38;5;124m'\u001b[39m\u001b[38;5;124moff\u001b[39m\u001b[38;5;124m'\u001b[39m)\n",
      "File \u001b[0;32m~/Projects/UCL/UCL_YEAR_2/COMP0016-Systems-Engineering/transfer_learning/.venv/lib/python3.12/site-packages/tensorflow/python/util/traceback_utils.py:153\u001b[0m, in \u001b[0;36mfilter_traceback.<locals>.error_handler\u001b[0;34m(*args, **kwargs)\u001b[0m\n\u001b[1;32m    151\u001b[0m \u001b[38;5;28;01mexcept\u001b[39;00m \u001b[38;5;167;01mException\u001b[39;00m \u001b[38;5;28;01mas\u001b[39;00m e:\n\u001b[1;32m    152\u001b[0m   filtered_tb \u001b[38;5;241m=\u001b[39m _process_traceback_frames(e\u001b[38;5;241m.\u001b[39m__traceback__)\n\u001b[0;32m--> 153\u001b[0m   \u001b[38;5;28;01mraise\u001b[39;00m e\u001b[38;5;241m.\u001b[39mwith_traceback(filtered_tb) \u001b[38;5;28;01mfrom\u001b[39;00m \u001b[38;5;28;01mNone\u001b[39;00m\n\u001b[1;32m    154\u001b[0m \u001b[38;5;28;01mfinally\u001b[39;00m:\n\u001b[1;32m    155\u001b[0m   \u001b[38;5;28;01mdel\u001b[39;00m filtered_tb\n",
      "File \u001b[0;32m~/Projects/UCL/UCL_YEAR_2/COMP0016-Systems-Engineering/transfer_learning/.venv/lib/python3.12/site-packages/tensorflow/python/framework/ops.py:5983\u001b[0m, in \u001b[0;36mraise_from_not_ok_status\u001b[0;34m(e, name)\u001b[0m\n\u001b[1;32m   5981\u001b[0m \u001b[38;5;28;01mdef\u001b[39;00m \u001b[38;5;21mraise_from_not_ok_status\u001b[39m(e, name) \u001b[38;5;241m-\u001b[39m\u001b[38;5;241m>\u001b[39m NoReturn:\n\u001b[1;32m   5982\u001b[0m   e\u001b[38;5;241m.\u001b[39mmessage \u001b[38;5;241m+\u001b[39m\u001b[38;5;241m=\u001b[39m (\u001b[38;5;124m\"\u001b[39m\u001b[38;5;124m name: \u001b[39m\u001b[38;5;124m\"\u001b[39m \u001b[38;5;241m+\u001b[39m \u001b[38;5;28mstr\u001b[39m(name \u001b[38;5;28;01mif\u001b[39;00m name \u001b[38;5;129;01mis\u001b[39;00m \u001b[38;5;129;01mnot\u001b[39;00m \u001b[38;5;28;01mNone\u001b[39;00m \u001b[38;5;28;01melse\u001b[39;00m \u001b[38;5;124m\"\u001b[39m\u001b[38;5;124m\"\u001b[39m))\n\u001b[0;32m-> 5983\u001b[0m   \u001b[38;5;28;01mraise\u001b[39;00m core\u001b[38;5;241m.\u001b[39m_status_to_exception(e) \u001b[38;5;28;01mfrom\u001b[39;00m \u001b[38;5;28;01mNone\u001b[39;00m\n",
      "\u001b[0;31mInvalidArgumentError\u001b[0m: {{function_node __wrapped__StridedSlice_device_/job:localhost/replica:0/task:0/device:CPU:0}} slice index 18 of dimension 0 out of bounds. [Op:StridedSlice] name: strided_slice/"
     ]
    },
    {
     "data": {
      "image/png": "[encoded data removed]",
      "text/plain": [
       "<Figure size 1000x900 with 19 Axes>"
      ]
     },
     "metadata": {},
     "output_type": "display_data"
    }
   ],
   "source": [
    "plt.figure(figsize=(10,9))\n",
    "plt.subplots_adjust(hspace=0.5)\n",
    "\n",
    "for n in range(30):\n",
    "  plt.subplot(6,5,n+1)\n",
    "  plt.imshow(image_batch[n])\n",
    "  plt.title(predicted_label_batch[n].title())\n",
    "  plt.axis('off')\n",
    "_ = plt.suptitle(\"Model predictions\")"
   ]
  },
  {
   "cell_type": "markdown",
   "metadata": {
    "id": "uRcJnAABr22x"
   },
   "source": [
    "## Export and reload your model\n",
    "\n",
    "Now that you've trained the model, export it as a SavedModel for reusing it later."
   ]
  },
  {
   "cell_type": "code",
   "execution_count": 108,
   "metadata": {
    "execution": {
     "iopub.execute_input": "2023-10-27T06:11:10.251596Z",
     "iopub.status.busy": "2023-10-27T06:11:10.251346Z",
     "iopub.status.idle": "2023-10-27T06:11:15.159012Z",
     "shell.execute_reply": "2023-10-27T06:11:15.158260Z"
    },
    "id": "PLcqg-RmsLno"
   },
   "outputs": [
    {
     "name": "stdout",
     "output_type": "stream",
     "text": [
      "INFO:tensorflow:Assets written to: ./saved_models/1712368467/assets\n"
     ]
    },
    {
     "name": "stderr",
     "output_type": "stream",
     "text": [
      "INFO:tensorflow:Assets written to: ./saved_models/1712368467/assets\n"
     ]
    },
    {
     "name": "stdout",
     "output_type": "stream",
     "text": [
      "./saved_models/1712368467\n"
     ]
    }
   ],
   "source": [
    "t = time.time()\n",
    "\n",
    "export_path = \"./saved_models/{}\".format(int(t))\n",
    "model.save(export_path)\n",
    "\n",
    "print(export_path)"
   ]
  },
  {
   "cell_type": "markdown",
   "metadata": {
    "id": "AhQ9liIUsPsi"
   },
   "source": [
    "Confirm that you can reload the SavedModel and that the model is able to output the same results:"
   ]
  },
  {
   "cell_type": "code",
   "execution_count": 84,
   "metadata": {
    "execution": {
     "iopub.execute_input": "2023-10-27T06:11:15.162485Z",
     "iopub.status.busy": "2023-10-27T06:11:15.162237Z",
     "iopub.status.idle": "2023-10-27T06:11:17.437496Z",
     "shell.execute_reply": "2023-10-27T06:11:17.436731Z"
    },
    "id": "7nI5fvkAQvbS"
   },
   "outputs": [],
   "source": [
    "reloaded = tf.keras.models.load_model(export_path)"
   ]
  },
  {
   "cell_type": "code",
   "execution_count": 85,
   "metadata": {
    "execution": {
     "iopub.execute_input": "2023-10-27T06:11:17.446025Z",
     "iopub.status.busy": "2023-10-27T06:11:17.445755Z",
     "iopub.status.idle": "2023-10-27T06:11:18.145120Z",
     "shell.execute_reply": "2023-10-27T06:11:18.144291Z"
    },
    "id": "dnZO14taYPH6"
   },
   "outputs": [
    {
     "name": "stdout",
     "output_type": "stream",
     "text": [
      "1/1 [==============================] - 0s 42ms/step\n",
      "WARNING:tensorflow:5 out of the last 80 calls to <function Model.make_predict_function.<locals>.predict_function at 0x28001e7a0> triggered tf.function retracing. Tracing is expensive and the excessive number of tracings could be due to (1) creating @tf.function repeatedly in a loop, (2) passing tensors with different shapes, (3) passing Python objects instead of tensors. For (1), please define your @tf.function outside of the loop. For (2), @tf.function has reduce_retracing=True option that can avoid unnecessary retracing. For (3), please refer to https://www.tensorflow.org/guide/function#controlling_retracing and https://www.tensorflow.org/api_docs/python/tf/function for  more details.\n"
     ]
    },
    {
     "name": "stderr",
     "output_type": "stream",
     "text": [
      "WARNING:tensorflow:5 out of the last 80 calls to <function Model.make_predict_function.<locals>.predict_function at 0x28001e7a0> triggered tf.function retracing. Tracing is expensive and the excessive number of tracings could be due to (1) creating @tf.function repeatedly in a loop, (2) passing tensors with different shapes, (3) passing Python objects instead of tensors. For (1), please define your @tf.function outside of the loop. For (2), @tf.function has reduce_retracing=True option that can avoid unnecessary retracing. For (3), please refer to https://www.tensorflow.org/guide/function#controlling_retracing and https://www.tensorflow.org/api_docs/python/tf/function for  more details.\n"
     ]
    },
    {
     "name": "stdout",
     "output_type": "stream",
     "text": [
      "1/1 [==============================] - 0s 336ms/step\n"
     ]
    }
   ],
   "source": [
    "\n",
    "result_batch = model.predict(image_batch)\n",
    "reloaded_result_batch = reloaded.predict(image_batch)"
   ]
  },
  {
   "cell_type": "code",
   "execution_count": 86,
   "metadata": {
    "execution": {
     "iopub.execute_input": "2023-10-27T06:11:18.148652Z",
     "iopub.status.busy": "2023-10-27T06:11:18.148368Z",
     "iopub.status.idle": "2023-10-27T06:11:18.153363Z",
     "shell.execute_reply": "2023-10-27T06:11:18.152648Z"
    },
    "id": "wtjsIPjQnPyM"
   },
   "outputs": [
    {
     "data": {
      "text/plain": [
       "0.0"
      ]
     },
     "execution_count": 86,
     "metadata": {},
     "output_type": "execute_result"
    }
   ],
   "source": [
    "abs(reloaded_result_batch - result_batch).max()"
   ]
  },
  {
   "cell_type": "code",
   "execution_count": 87,
   "metadata": {
    "execution": {
     "iopub.execute_input": "2023-10-27T06:11:18.156360Z",
     "iopub.status.busy": "2023-10-27T06:11:18.156074Z",
     "iopub.status.idle": "2023-10-27T06:11:18.160909Z",
     "shell.execute_reply": "2023-10-27T06:11:18.160230Z"
    },
    "id": "jor83-LqI8xW"
   },
   "outputs": [
    {
     "name": "stdout",
     "output_type": "stream",
     "text": [
      "['LAN' 'WAN ETHERNET']\n"
     ]
    }
   ],
   "source": [
    "reloaded_predicted_id = tf.math.argmax(reloaded_result_batch, axis=-1)\n",
    "reloaded_predicted_label_batch = class_names[reloaded_predicted_id]\n",
    "print(reloaded_predicted_label_batch)"
   ]
  },
  {
   "cell_type": "code",
   "execution_count": 88,
   "metadata": {
    "execution": {
     "iopub.execute_input": "2023-10-27T06:11:18.163826Z",
     "iopub.status.busy": "2023-10-27T06:11:18.163605Z",
     "iopub.status.idle": "2023-10-27T06:11:19.942327Z",
     "shell.execute_reply": "2023-10-27T06:11:19.941464Z"
    },
    "id": "RkQIBksVkxPO"
   },
   "outputs": [
    {
     "name": "stderr",
     "output_type": "stream",
     "text": [
      "2024-04-06 02:04:24.521536: W tensorflow/core/framework/op_kernel.cc:1839] OP_REQUIRES failed at strided_slice_op.cc:117 : INVALID_ARGUMENT: slice index 2 of dimension 0 out of bounds.\n",
      "2024-04-06 02:04:24.521560: W tensorflow/core/framework/local_rendezvous.cc:404] Local rendezvous is aborting with status: INVALID_ARGUMENT: slice index 2 of dimension 0 out of bounds.\n"
     ]
    },
    {
     "ename": "InvalidArgumentError",
     "evalue": "{{function_node __wrapped__StridedSlice_device_/job:localhost/replica:0/task:0/device:CPU:0}} slice index 2 of dimension 0 out of bounds. [Op:StridedSlice] name: strided_slice/",
     "output_type": "error",
     "traceback": [
      "\u001b[0;31m---------------------------------------------------------------------------\u001b[0m",
      "\u001b[0;31mInvalidArgumentError\u001b[0m                      Traceback (most recent call last)",
      "Cell \u001b[0;32mIn[88], line 5\u001b[0m\n\u001b[1;32m      3\u001b[0m \u001b[38;5;28;01mfor\u001b[39;00m n \u001b[38;5;129;01min\u001b[39;00m \u001b[38;5;28mrange\u001b[39m(\u001b[38;5;241m30\u001b[39m):\n\u001b[1;32m      4\u001b[0m   plt\u001b[38;5;241m.\u001b[39msubplot(\u001b[38;5;241m6\u001b[39m,\u001b[38;5;241m5\u001b[39m,n\u001b[38;5;241m+\u001b[39m\u001b[38;5;241m1\u001b[39m)\n\u001b[0;32m----> 5\u001b[0m   plt\u001b[38;5;241m.\u001b[39mimshow(\u001b[43mimage_batch\u001b[49m\u001b[43m[\u001b[49m\u001b[43mn\u001b[49m\u001b[43m]\u001b[49m)\n\u001b[1;32m      6\u001b[0m   plt\u001b[38;5;241m.\u001b[39mtitle(reloaded_predicted_label_batch[n]\u001b[38;5;241m.\u001b[39mtitle())\n\u001b[1;32m      7\u001b[0m   plt\u001b[38;5;241m.\u001b[39maxis(\u001b[38;5;124m'\u001b[39m\u001b[38;5;124moff\u001b[39m\u001b[38;5;124m'\u001b[39m)\n",
      "File \u001b[0;32m~/Projects/UCL/UCL_YEAR_2/COMP0016-Systems-Engineering/transfer_learning/.venv/lib/python3.12/site-packages/tensorflow/python/util/traceback_utils.py:153\u001b[0m, in \u001b[0;36mfilter_traceback.<locals>.error_handler\u001b[0;34m(*args, **kwargs)\u001b[0m\n\u001b[1;32m    151\u001b[0m \u001b[38;5;28;01mexcept\u001b[39;00m \u001b[38;5;167;01mException\u001b[39;00m \u001b[38;5;28;01mas\u001b[39;00m e:\n\u001b[1;32m    152\u001b[0m   filtered_tb \u001b[38;5;241m=\u001b[39m _process_traceback_frames(e\u001b[38;5;241m.\u001b[39m__traceback__)\n\u001b[0;32m--> 153\u001b[0m   \u001b[38;5;28;01mraise\u001b[39;00m e\u001b[38;5;241m.\u001b[39mwith_traceback(filtered_tb) \u001b[38;5;28;01mfrom\u001b[39;00m \u001b[38;5;28;01mNone\u001b[39;00m\n\u001b[1;32m    154\u001b[0m \u001b[38;5;28;01mfinally\u001b[39;00m:\n\u001b[1;32m    155\u001b[0m   \u001b[38;5;28;01mdel\u001b[39;00m filtered_tb\n",
      "File \u001b[0;32m~/Projects/UCL/UCL_YEAR_2/COMP0016-Systems-Engineering/transfer_learning/.venv/lib/python3.12/site-packages/tensorflow/python/framework/ops.py:5983\u001b[0m, in \u001b[0;36mraise_from_not_ok_status\u001b[0;34m(e, name)\u001b[0m\n\u001b[1;32m   5981\u001b[0m \u001b[38;5;28;01mdef\u001b[39;00m \u001b[38;5;21mraise_from_not_ok_status\u001b[39m(e, name) \u001b[38;5;241m-\u001b[39m\u001b[38;5;241m>\u001b[39m NoReturn:\n\u001b[1;32m   5982\u001b[0m   e\u001b[38;5;241m.\u001b[39mmessage \u001b[38;5;241m+\u001b[39m\u001b[38;5;241m=\u001b[39m (\u001b[38;5;124m\"\u001b[39m\u001b[38;5;124m name: \u001b[39m\u001b[38;5;124m\"\u001b[39m \u001b[38;5;241m+\u001b[39m \u001b[38;5;28mstr\u001b[39m(name \u001b[38;5;28;01mif\u001b[39;00m name \u001b[38;5;129;01mis\u001b[39;00m \u001b[38;5;129;01mnot\u001b[39;00m \u001b[38;5;28;01mNone\u001b[39;00m \u001b[38;5;28;01melse\u001b[39;00m \u001b[38;5;124m\"\u001b[39m\u001b[38;5;124m\"\u001b[39m))\n\u001b[0;32m-> 5983\u001b[0m   \u001b[38;5;28;01mraise\u001b[39;00m core\u001b[38;5;241m.\u001b[39m_status_to_exception(e) \u001b[38;5;28;01mfrom\u001b[39;00m \u001b[38;5;28;01mNone\u001b[39;00m\n",
      "\u001b[0;31mInvalidArgumentError\u001b[0m: {{function_node __wrapped__StridedSlice_device_/job:localhost/replica:0/task:0/device:CPU:0}} slice index 2 of dimension 0 out of bounds. [Op:StridedSlice] name: strided_slice/"
     ]
    },
    {
     "data": {
      "image/png": "[encoded data removed]",
      "text/plain": [
       "<Figure size 1000x900 with 3 Axes>"
      ]
     },
     "metadata": {},
     "output_type": "display_data"
    }
   ],
   "source": [
    "plt.figure(figsize=(10,9))\n",
    "plt.subplots_adjust(hspace=0.5)\n",
    "for n in range(30):\n",
    "  plt.subplot(6,5,n+1)\n",
    "  plt.imshow(image_batch[n])\n",
    "  plt.title(reloaded_predicted_label_batch[n].title())\n",
    "  plt.axis('off')\n",
    "_ = plt.suptitle(\"Model predictions\")"
   ]
  },
  {
   "cell_type": "markdown",
   "metadata": {
    "id": "mSBRrW-MqBbk"
   },
   "source": [
    "## Next steps\n",
    "\n",
    "You can use the SavedModel to load for inference or convert it to a [TensorFlow Lite](https://www.tensorflow.org/lite/models/convert/)  model (for on-device machine learning) or a [TensorFlow.js](https://www.tensorflow.org/js/tutorials#convert_pretrained_models_to_tensorflowjs) model (for machine learning in JavaScript).\n",
    "\n",
    "Discover [more tutorials](https://www.tensorflow.org/hub/tutorials) to learn how to use pre-trained models from TensorFlow Hub on image, text, audio, and video tasks."
   ]
  }
 ],
 "metadata": {
  "accelerator": "GPU",
  "colab": {
   "collapsed_sections": [
    "W_tvPdyfA-BL"
   ],
   "name": "transfer_learning_with_hub.ipynb",
   "toc_visible": true
  },
  "kernelspec": {
   "display_name": ".venv",
   "language": "python",
   "name": "python3"
  },
  "language_info": {
   "codemirror_mode": {
    "name": "ipython",
    "version": 3
   },
   "file_extension": ".py",
   "mimetype": "text/x-python",
   "name": "python",
   "nbconvert_exporter": "python",
   "pygments_lexer": "ipython3",
   "version": "3.12.1"
  }
 },
 "nbformat": 4,
 "nbformat_minor": 0
}
